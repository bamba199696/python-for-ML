{
 "cells": [
  {
   "cell_type": "markdown",
   "metadata": {},
   "source": [
    "# Exercices"
   ]
  },
  {
   "cell_type": "markdown",
   "metadata": {},
   "source": [
    "## 0."
   ]
  },
  {
   "cell_type": "markdown",
   "metadata": {},
   "source": [
    "Quelles sont les longueurs des chaines de caractères ci-dessous ?"
   ]
  },
  {
   "cell_type": "code",
   "execution_count": 25,
   "metadata": {},
   "outputs": [],
   "source": [
    "a = \"\"\n",
    "length = 0"
   ]
  },
  {
   "cell_type": "code",
   "execution_count": 26,
   "metadata": {},
   "outputs": [],
   "source": [
    "b = \"it's ok\"\n",
    "length = 7"
   ]
  },
  {
   "cell_type": "code",
   "execution_count": 27,
   "metadata": {},
   "outputs": [],
   "source": [
    "c = 'it\\'s ok'\n",
    "length = 7"
   ]
  },
  {
   "cell_type": "code",
   "execution_count": 28,
   "metadata": {},
   "outputs": [],
   "source": [
    "d = \"\"\"hey\"\"\"\n",
    "length = 3"
   ]
  },
  {
   "cell_type": "code",
   "execution_count": 29,
   "metadata": {},
   "outputs": [],
   "source": [
    "e = '\\n'\n",
    "length = 1"
   ]
  },
  {
   "cell_type": "markdown",
   "metadata": {},
   "source": [
    "## 1."
   ]
  },
  {
   "cell_type": "markdown",
   "metadata": {},
   "source": [
    "On dit que \"les Data Scientists passent 80% de leur temps à nettoyer les données, et 20% de leur temps à se plaindre du nettoyage des données\". Voyons si vous pouvez écrire une fonction pour aider à nettoyer les données des codes postaux américains. Si l'on donne une chaîne de caractères, la fonction devra renvoyer si cette chaîne représente ou non un code postal valide. Pour nos besoins, un code postal valide est toute chaîne composée de 5 chiffres exactement.\n",
    "\n",
    "ASTUCE : str a une méthode qui sera utile ici. Utilisez help(str) pour consulter une liste de méthodes de chaînes de caractères."
   ]
  },
  {
   "cell_type": "code",
   "execution_count": 20,
   "metadata": {},
   "outputs": [
    {
     "name": "stdout",
     "output_type": "stream",
     "text": [
      "Votre code postale est erroné\n"
     ]
    },
    {
     "data": {
      "text/plain": [
       "True"
      ]
     },
     "execution_count": 20,
     "metadata": {},
     "output_type": "execute_result"
    }
   ],
   "source": [
    "def is_valid_zip(zip_code):\n",
    "    \"\"\"Returns whether the input string is a valid (5 digit) zip code\n",
    "    \"\"\"\n",
    "    # verifier qu'il y a que des chiffres dans zip_code\n",
    "    if zip_code.isdigit():\n",
    "        return len(zip_code) == 5\n",
    "    else:\n",
    "        print('Votre code postale est erroné')\n",
    "                \n",
    "is_valid_zip('abcde')\n",
    "is_valid_zip('12345')"
   ]
  },
  {
   "cell_type": "markdown",
   "metadata": {},
   "source": [
    "## 2."
   ]
  },
  {
   "cell_type": "markdown",
   "metadata": {},
   "source": [
    "Un chercheur a rassemblé des milliers d'articles de presse. Mais il veut concentrer son attention sur les articles comportant un mot précis. Remplissez la fonction ci-dessous pour l'aider à filtrer sa liste d'articles.\n",
    "\n",
    "Votre fonction doit répondre aux critères suivants :\n",
    "- Ne pas inclure les documents dans lesquels la chaîne de caractères de mots-clés n'apparaît que dans un mot plus large. Par exemple, si il cherchait le mot-clé \"closed\", vous n'incluez pas la chaîne \"enclosed\".\n",
    "- Il ne veut pas que vous distinguiez les majuscules des minuscules. Ainsi, la phrase \"Fermé la casse.\" serait incluse lorsque le mot-clé est \"fermé\".\n",
    "- Ne laissez pas les points ou les virgules affecter ce qui est apparié. \"It is closed.\" est inclus lorsque le mot-clé est \"closed\". Mais vous pouvez supposer qu'il n'y a pas d'autres types de ponctuation."
   ]
  },
  {
   "cell_type": "code",
   "execution_count": 5,
   "metadata": {},
   "outputs": [
    {
     "name": "stdout",
     "output_type": "stream",
     "text": [
      "[['the', 'learn', 'python', 'challenge', 'casino']]\n",
      "[['the', 'learn', 'python', 'challenge', 'casino'], ['they', 'bought', 'a', 'car']]\n",
      "[['the', 'learn', 'python', 'challenge', 'casino'], ['they', 'bought', 'a', 'car'], ['casinoville']]\n",
      "index  [0]\n",
      "[['the', 'learn', 'python', 'challenge', 'casino']]\n",
      "[['the', 'learn', 'python', 'challenge', 'casino'], ['they', 'bought', 'a', 'car', 'and', 'a', 'casino']]\n",
      "[['the', 'learn', 'python', 'challenge', 'casino'], ['they', 'bought', 'a', 'car', 'and', 'a', 'casino'], ['casino']]\n",
      "index  [0, 1, 2]\n"
     ]
    }
   ],
   "source": [
    "def word_search(doc_list, keyword):\n",
    "    \"\"\"\n",
    "    Takes a list of documents (each document is a string) and a keyword. \n",
    "    Returns list of the index values into the original list for all documents \n",
    "    containing the keyword.\n",
    "\n",
    "    Example:\n",
    "    doc_list = [\"The Learn Python Challenge Casino.\", \"They bought a car\", \"Casinoville\"]\n",
    "    >>> word_search(doc_list, 'casino')\n",
    "    >>> [0]\n",
    "    \"\"\"\n",
    "    b = []\n",
    "    index = [] # liste index au cas où le mot est répété\n",
    "    for i in range(len(doc_list)):\n",
    "        b.append(doc_list[i].strip('.').lower().split()) # strip('.') permet d'enlever le '.'\n",
    "        print(b)\n",
    "        for j in range(len(b[i])):\n",
    "            if b[i][j]== keyword.lower():\n",
    "                index.append(i)\n",
    "    return index\n",
    "\n",
    "doc_list = [\"The Learn Python Challenge Casino.\", \"They bought a car\", \"Casinoville\"]\n",
    "\n",
    "print(\"index \", word_search(doc_list, 'casino'))\n",
    "\n",
    "doc_list = [\"The Learn Python Challenge Casino.\", \"They bought a car and a casino\", \"Casino\"]\n",
    "# exemple si le mot est répété\n",
    "print(\"index \", word_search(doc_list, 'casino'))\n",
    "\n"
   ]
  },
  {
   "cell_type": "markdown",
   "metadata": {},
   "source": [
    "## 3."
   ]
  },
  {
   "cell_type": "markdown",
   "metadata": {},
   "source": [
    "Le chercheur veut maintenant fournir plusieurs mots-clés à rechercher. Remplissez la fonction ci-dessous pour l'aider.\n",
    "\n",
    "(Vous êtes encouragé à utiliser la fonction word_search que vous venez d'écrire lors de la mise en œuvre de cette fonction. Réutiliser du code de cette manière rend vos programmes plus robustes et plus lisibles - et cela vous évite de taper)."
   ]
  },
  {
   "cell_type": "code",
   "execution_count": 99,
   "metadata": {},
   "outputs": [
    {
     "data": {
      "text/plain": [
       "{'casino': [0, 1], 'they': [1], 'casinoville': [2]}"
      ]
     },
     "execution_count": 99,
     "metadata": {},
     "output_type": "execute_result"
    }
   ],
   "source": [
    "def multi_word_search(doc_list, keywords):\n",
    "    \"\"\"\n",
    "    Takes list of documents (each document is a string) and a list of keywords.  \n",
    "    Returns a dictionary where each key is a keyword, and the value is a list of indices\n",
    "    (from doc_list) of the documents containing that keyword\n",
    "\n",
    "    >>> doc_list = [\"The Learn Python Challenge Casino.\", \"They bought a car and a casino\", \"Casinoville\"]\n",
    "    >>> keywords = ['casino', 'they']\n",
    "    >>> multi_word_search(doc_list, keywords)\n",
    "    {'casino': [0, 1], 'they': [1]}\n",
    "    \"\"\"\n",
    "    dico = {}\n",
    "    for i in range(len(keywords)):\n",
    "        dico[keywords[i]] = word_search(doc_list, keywords[i])\n",
    "    return dico\n",
    "\n",
    "keywords = ['casino', 'they', 'casinoville']\n",
    "multi_word_search(doc_list, keywords)"
   ]
  },
  {
   "cell_type": "code",
   "execution_count": 2,
   "metadata": {},
   "outputs": [
    {
     "data": {
      "text/plain": [
       "'OUEST-FRANCE (AVEC AFP)'"
      ]
     },
     "execution_count": 2,
     "metadata": {},
     "output_type": "execute_result"
    }
   ],
   "source": [
    "l= 'Ouest-France (avec AFP)'\n",
    "\n",
    "l.upper()"
   ]
  },
  {
   "cell_type": "code",
   "execution_count": null,
   "metadata": {},
   "outputs": [],
   "source": []
  }
 ],
 "metadata": {
  "kernelspec": {
   "display_name": "Python 3",
   "language": "python",
   "name": "python3"
  },
  "language_info": {
   "codemirror_mode": {
    "name": "ipython",
    "version": 3
   },
   "file_extension": ".py",
   "mimetype": "text/x-python",
   "name": "python",
   "nbconvert_exporter": "python",
   "pygments_lexer": "ipython3",
   "version": "3.7.6"
  }
 },
 "nbformat": 4,
 "nbformat_minor": 2
}
