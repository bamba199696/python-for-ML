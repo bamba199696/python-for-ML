{
  "nbformat": 4,
  "nbformat_minor": 0,
  "metadata": {
    "kernelspec": {
      "display_name": "Python 3",
      "language": "python",
      "name": "python3"
    },
    "language_info": {
      "codemirror_mode": {
        "name": "ipython",
        "version": 3
      },
      "file_extension": ".py",
      "mimetype": "text/x-python",
      "name": "python",
      "nbconvert_exporter": "python",
      "pygments_lexer": "ipython3",
      "version": "3.8.5"
    },
    "colab": {
      "name": "1-Découvrez Python_elhadji.ipynb",
      "provenance": []
    }
  },
  "cells": [
    {
      "cell_type": "markdown",
      "metadata": {
        "id": "HUQIOCPNx4S-"
      },
      "source": [
        "# Mon premier cours de python"
      ]
    },
    {
      "cell_type": "markdown",
      "metadata": {
        "id": "EYmdrKAux4TP"
      },
      "source": [
        "Si c'est la première fois que vous utilisez un notebook, bienvenue!\n",
        "\n",
        "Les notebooks sont composés de blocs (appelés \"cellules\") de texte et de code. Chacun d'eux est modifiable, bien que vous éditiez principalement les cellules de code pour répondre à certaines questions.\n",
        "\n",
        "Pour commencer, essayez d'exécuter la cellule de code ci-dessous (en appuyant sur le bouton ►, ou en cliquant sur la cellule et en appuyant sur ctrl + entrée sur votre clavier)."
      ]
    },
    {
      "cell_type": "code",
      "metadata": {
        "scrolled": true,
        "id": "Xv_V3RBYx4TQ",
        "outputId": "3226b843-0c00-4f41-9b08-d6f5326c8ab4"
      },
      "source": [
        "print(\"You've successfully run some Python code\")\n",
        "print(\"Congratulations!\")  \n",
        "print('I\\'m so excited')"
      ],
      "execution_count": null,
      "outputs": [
        {
          "name": "stdout",
          "output_type": "stream",
          "text": [
            "You've successfully run some Python code\n",
            "Congratulations!\n",
            "I'm so excited\n"
          ]
        }
      ]
    },
    {
      "cell_type": "markdown",
      "metadata": {
        "id": "s4QPItwMx4TT"
      },
      "source": [
        "Essayez d'ajouter une autre ligne de code dans la cellule ci-dessus et de la relancer.\n",
        "\n",
        "Maintenant : ajoutez une nouvelle cellule de code en cliquant sur +  et déplacez là avec les flèches\n",
        "\n"
      ]
    },
    {
      "cell_type": "markdown",
      "metadata": {
        "id": "jbu9ekoxx4TT"
      },
      "source": [
        "Commençons par un cours d'introduction"
      ]
    },
    {
      "cell_type": "markdown",
      "metadata": {
        "id": "lDHTMGrzx4TU"
      },
      "source": [
        "# Découvrez Python\n"
      ]
    },
    {
      "cell_type": "markdown",
      "metadata": {
        "id": "GInkCzACx4TU"
      },
      "source": [
        "La communication humaine\n",
        "\n",
        "Non, ceci n'est pas une explication biologique ou philosophique, ne partez pas !\n",
        "Très simplement, si vous arrivez à comprendre ces suites de symboles étranges et déconcertants que sont les lettres de l'alphabet, c'est parce que nous respectons certaines conventions, dans le langage et dans l'écriture. En français, il y a des règles de grammaire et d'orthographe, je ne vous apprends rien. Vous communiquez en connaissant plus ou moins consciemment ces règles et en les appliquant plus ou moins bien, selon les cas.\n",
        "Cependant, ces règles peuvent être aisément contournées : personne ne peut prétendre connaître l'ensemble des règles de la grammaire et de l'orthographe françaises, et peu de gens s'en soucient. Après tout, même si vous faites des fautes, les personnes avec qui vous communiquez pourront facilement vous comprendre.\n",
        "Quand on communique avec un ordinateur, cependant, c'est très différent.\n",
        "\n",
        "Mon ordinateur communique aussi !\n",
        "Eh oui, votre ordinateur communique sans cesse avec vous et vous communiquez sans cesse avec lui. D'accord, il vous dit très rarement qu'il a faim, que l'été s'annonce caniculaire et que le dernier disque de ce groupe très connu était à pleurer.\n",
        "Il n'y a rien de magique si, quand vous cliquez sur la petite croix en haut à droite de l'application en cours, celle-ci comprend qu'elle doit se fermer.\n",
        "\n",
        "Le langage machine\n",
        "\n",
        "En fait, votre ordinateur se fonde aussi sur un langage pour communiquer avec vous ou avec lui-même. Les opérations qu'un ordinateur peut effectuer à la base sont des plus classiques et constituées de l'addition de deux nombres, leur soustraction, leur multiplication, leur division, entière ou non. Et pourtant, ces cinq opérations suffisent amplement à faire fonctionner les logiciels de simulation les plus complexes ou les jeux super-réalistes.\n",
        "Tous ces logiciels fonctionnent en gros de la même façon :\n",
        "\n",
        "une suite d'instructions écrites en langage machine compose le programme ;\n",
        "\n",
        "lors de l'exécution du programme, ces instructions décrivent à l'ordinateur ce qu'il faut faire (l'ordinateur ne peut pas le deviner).\n",
        "\n",
        "Une liste d'instructions ? Qu'est-ce que c'est encore que cela ?\n",
        "\n",
        "En schématisant volontairement, une instruction pourrait demander au programme de se fermer si vous cliquez sur la croix en haut à droite de votre écran, ou de rester en tâche de fond si tel est son bon plaisir. Toutefois, en langage machine, une telle action demande à elle seule un nombre assez important d'instructions.\n",
        "Mais bon, vous pouvez vous en douter, parler avec l'ordinateur en langage machine, qui ne comprend que le binaire, ce n'est ni très enrichissant, ni très pratique, et en tous cas pas très marrant.\n",
        "On a donc inventé des langages de programmation pour faciliter la communication avec l'ordinateur.\n",
        "\n",
        "Le langage binaire est uniquement constitué de 0 et de 1. « 01000010011011110110111001101010011011110111010101110010 », par exemple, signifie « Bonjour ». Bref, autant vous dire que discuter en binaire avec un ordinateur peut être long (surtout pour vous).\n",
        "\n",
        "Les langages de programmation\n",
        "\n",
        "Les langages de programmation sont des langages bien plus faciles à comprendre pour nous, pauvres êtres humains que nous sommes. Le mécanisme reste le même, mais le langage est bien plus compréhensible. Au lieu d'écrire les instructions dans une suite assez peu intelligible de 0 et de 1, les ordres donnés à l'ordinateur sont écrits dans un « langage », souvent en anglais, avec une syntaxe particulière qu'il est nécessaire de respecter. Mais avant que l'ordinateur puisse comprendre ce langage, celui-ci doit être traduit en langage machine (figure suivante).\n",
        "\n",
        "Traduction d'un programme en langage binaire\n",
        "\n",
        "![image.png](attachment:image.png)\n",
        "\n",
        "En gros, le programmeur « n'a qu'à » écrire des lignes de code dans le langage qu'il a choisi, les étapes suivantes sont automatisées pour permettre à l'ordinateur de les décoder.\n",
        "\n",
        "Il existe un grand nombre de langages de programmation et Python en fait partie. Il n'est pas nécessaire pour le moment de donner plus d'explications sur ces mécanismes très schématisés. Si vous n'avez pas réussi à comprendre les mots de vocabulaire et l'ensemble de ces explications, cela ne vous pénalisera pas pour la suite. Mais je trouvais intéressant de donner ces précisions quant aux façons de communiquer avec son ordinateur."
      ]
    },
    {
      "cell_type": "markdown",
      "metadata": {
        "id": "i3Lis2A3x4TW"
      },
      "source": [
        "# Pour la petite histoire"
      ]
    },
    {
      "cell_type": "markdown",
      "metadata": {
        "id": "hcxITJ4ix4TX"
      },
      "source": [
        "Python est un langage de programmation, dont la première version est sortie en 1991. Créé par Guido van Rossum, il a voyagé du Macintosh de son créateur, qui travaillait à cette époque au Centrum voor Wiskunde en Informatica aux Pays-Bas, jusqu'à se voir associer une organisation à but non lucratif particulièrement dévouée, la Python Software Foundation, créée en 2001. Ce langage a été baptisé ainsi en hommage à la troupe de comiques les « Monty Python ».\n",
        "\n",
        "À quoi peut servir Python ?\n",
        "\n",
        "Python est un langage puissant, à la fois facile à apprendre et riche en possibilités. Dès l'instant où vous l'installez sur votre ordinateur, vous disposez de nombreuses fonctionnalités intégrées au langage que nous allons découvrir tout au long de ce livre.\n",
        "\n",
        "Il est, en outre, très facile d'étendre les fonctionnalités existantes, comme nous allons le voir. Ainsi, il existe ce qu'on appelle des bibliothèques qui aident le développeur à travailler sur des projets particuliers. Plusieurs bibliothèques peuvent ainsi être installées pour, par exemple, développer des interfaces graphiques en Python.\n",
        "\n",
        "Concrètement, voilà ce qu'on peut faire avec Python :\n",
        "\n",
        "    de petits programmes très simples, appelés scripts, chargés d'une mission très précise sur votre ordinateur ;\n",
        "\n",
        "    des programmes complets, comme des jeux, des suites bureautiques, des logiciels multimédias, des clients de messagerie…\n",
        "\n",
        "    des projets très complexes, comme des progiciels (ensemble de plusieurs logiciels pouvant fonctionner ensemble, principalement utilisés dans le monde professionnel).\n",
        "\n",
        "Voici quelques-unes des fonctionnalités offertes par Python et ses bibliothèques :\n",
        "\n",
        "    créer des interfaces graphiques ;\n",
        "\n",
        "    faire circuler des informations au travers d'un réseau ;\n",
        "\n",
        "    dialoguer d'une façon avancée avec votre système d'exploitation ;\n",
        "\n",
        "    … et j'en passe…\n",
        "\n",
        "Bien entendu, vous n'allez pas apprendre à faire tout cela en quelques minutes. Mais ce cours vous donnera des bases suffisamment larges pour développer des projets qui pourront devenir, par la suite, assez importants.\n",
        "\n",
        "Un langage de programmation interprété\n",
        "\n",
        "Eh oui, vous allez devoir patienter encore un peu car il me reste deux ou trois choses à vous expliquer, et je suis persuadé qu'il est important de connaître un minimum ces détails qui peuvent sembler peu pratiques de prime abord.\n",
        "Python est un langage de programmation interprété, c'est-à-dire que les instructions que vous lui envoyez sont « transcrites » en langage machine au fur et à mesure de leur lecture. D'autres langages (comme le C / C++) sont appelés « langages compilés » car, avant de pouvoir les exécuter, un logiciel spécialisé se charge de transformer le code du programme en langage machine. On appelle cette étape la « compilation ». À chaque modification du code, il faut rappeler une étape de compilation.\n",
        "\n",
        "Les avantages d'un langage interprété sont la simplicité (on ne passe pas par une étape de compilation avant d'exécuter son programme) et la portabilité (un langage tel que Python est censé fonctionner aussi bien sous Windows que sous Linux ou Mac OS, et on ne devrait avoir à effectuer aucun changement dans le code pour le passer d'un système à l'autre). Cela ne veut pas dire que les langages compilés ne sont pas portables, loin de là ! Mais on doit utiliser des compilateurs différents et, d'un système à l'autre, certaines instructions ne sont pas compatibles, voire se comportent différemment.\n",
        "\n",
        "En contrepartie, un langage compilé se révélera bien plus rapide qu'un langage interprété (la traduction à la volée de votre programme ralentit l'exécution), bien que cette différence tende à se faire de moins en moins sentir au fil des améliorations. De plus, il faudra installer Python sur le système d'exploitation que vous utilisez pour que l'ordinateur puisse comprendre votre code.\n",
        "\n",
        "Différentes versions de Python\n",
        "\n",
        "Lors de la création de la Python Software Foundation, en 2001, et durant les années qui ont suivi, le langage Python est passé par une suite de versions que l'on a englobées dans l'appellation Python 2.x (2.3, 2.5, 2.6…). Depuis le 13 février 2009, la version 3.0.1 est disponible. Cette version casse la compatibilité ascendante qui prévalait lors des dernières versions.\n",
        "\n",
        "Compatibilité quoi ?\n",
        "\n",
        "Quand un langage de programmation est mis à jour, les développeurs se gardent bien de supprimer ou de trop modifier d'anciennes fonctionnalités. L'intérêt est qu'un programme qui fonctionne sous une certaine version marchera toujours avec la nouvelle version en date. Cependant, la Python Software Foundation, observant un bon nombre de fonctionnalités obsolètes, mises en œuvre plusieurs fois… a décidé de nettoyer tout le projet. Un programme qui tourne à la perfection sous Python 2.x devra donc être mis à jour un minimum pour fonctionner de nouveau sous Python 3. C'est pourquoi je vais vous conseiller ultérieurement de télécharger et d'installer la dernière version en date de Python. Je m'attarderai en effet sur les fonctionnalités de Python 3 et certaines d'entre elles ne seront pas accessibles (ou pas sous le même nom) dans les anciennes versions."
      ]
    },
    {
      "cell_type": "markdown",
      "metadata": {
        "id": "Xs0F8wEqx4TZ"
      },
      "source": [
        "# Hello, Python!¶"
      ]
    },
    {
      "cell_type": "markdown",
      "metadata": {
        "id": "wGK68g_Fx4TZ"
      },
      "source": [
        "Python a été nommé en référence à la troupe de comédie britannique Monty Python, donc nous ferons de notre premier programme Python un hommage à leur sketch sur le spam?\n",
        "\n",
        "Juste pour le plaisir, essayez de lire le code ci-dessous et de prédire ce qu'il va faire lors de l'exécution. (Si vous n'en avez aucune idée, ça va!)"
      ]
    },
    {
      "cell_type": "code",
      "metadata": {
        "id": "1KfZqkBwx4TZ",
        "outputId": "5eaee65c-3931-4f7b-8ad3-ee6a793aef5d"
      },
      "source": [
        "spam_amount = 0\n",
        "print(spam_amount) # le resultat de sortie est 0\n",
        "\n",
        "# Ordering Spam, egg, Spam, Spam, bacon and Spam (4 more servings of Spam)\n",
        "spam_amount = spam_amount + 4\n",
        "print(spam_amount)\n",
        "\n",
        "if spam_amount > 0: \n",
        "    print(\"But I don't want ANY spam!\") # But I don't want ANY spam! est affiché à l'écran\n",
        "\n",
        "viking_song = \"Spam is cool. \" * spam_amount \n",
        "print(viking_song) # le résultat est Spam Spam Spam Spam  "
      ],
      "execution_count": null,
      "outputs": [
        {
          "name": "stdout",
          "output_type": "stream",
          "text": [
            "0\n",
            "4\n",
            "But I don't want ANY spam!\n",
            "Spam is cool. Spam is cool. Spam is cool. Spam is cool. \n"
          ]
        }
      ]
    },
    {
      "cell_type": "markdown",
      "metadata": {
        "id": "fMTHcA6ix4Ta"
      },
      "source": [
        "spam_amount = 0\n",
        "\n",
        "\n",
        "Affectation de variable \n",
        "\n",
        "    Ici, nous créons une variable appelée spam_amount et lui affectons la valeur 0 en utilisant =, qui est appelé l'opérateur d'affectation.\n",
        "\n",
        "    En plus: Si vous avez programmé dans certains autres langages (comme Java ou C ++), vous remarquerez peut-être certaines choses que Python ne nous oblige pas à faire ici:\n",
        "\n",
        "    nous n'avons pas besoin de \"déclarer\" spam_amount avant de l'affecter\n",
        "    nous n'avons pas besoin de dire à Python à quel type de valeur spam_amount va se référer. En fait, nous pouvons même continuer à réaffecter spam_amount pour faire référence à un autre type de chose comme une chaîne ou un booléen."
      ]
    },
    {
      "cell_type": "markdown",
      "metadata": {
        "id": "5y6c0N-lx4Ta"
      },
      "source": [
        "print(spam_amount)\n",
        "\n",
        "Appels de fonction :\n",
        "\n",
        "    print est une fonction Python qui affiche la valeur qui lui est transmise à l'écran. Nous appelons des fonctions en mettant des parenthèses après leur nom, et en mettant les entrées (ou arguments) à la fonction entre ces parenthèses."
      ]
    },
    {
      "cell_type": "markdown",
      "metadata": {
        "id": "aTjZPzexx4Tb"
      },
      "source": [
        "\"# Ordering Spam, egg, Spam, Spam, bacon and Spam (4 more servings of Spam)\n",
        "spam_amount = spam_amount + 4\n",
        "\n",
        "    La première ligne ci-dessus est un commentaire. En Python, les commentaires commencent par le symbole #.\n",
        "\n",
        "    Ensuite, nous voyons un exemple de réaffectation. La réaffectation de la valeur d'une variable existante ressemble à la création d'une variable - elle utilise toujours l'opérateur d'affectation =.\n",
        "\n",
        "    Dans ce cas, la valeur que nous attribuons à spam_amount implique une simple arithmétique sur sa valeur précédente. Lorsqu'il rencontre cette ligne, Python évalue l'expression sur le côté droit de = (0 + 4 = 4), puis affecte cette valeur à la variable sur le côté gauche."
      ]
    },
    {
      "cell_type": "markdown",
      "metadata": {
        "id": "FQtf4pBcx4Tc"
      },
      "source": [
        "if spam_amount > 0:\n",
        "\n",
        "    print(\"But I don't want ANY spam!\")\n",
        "\n",
        "viking_song = \"Spam Spam Spam\"\n",
        "print(viking_song)\n",
        "\n",
        "    Nous reviendrons sur les conditions plus tard (if something :), mais, même si vous n'avez jamais codé auparavant, vous pouvez probablement deviner ce que cela fait. Python est apprécié pour sa lisibilité et sa simplicité.\n",
        "\n",
        "    \"Mais je ne veux AUCUN spam!\" n'est censé être imprimé que si spam_amount est positif. Mais le code ultérieur (comme print (viking_song)) devrait être exécuté quoi qu'il arrive. Comment savons-nous (et Python) cela?\n",
        "\n",
        "    Les deux-points (:) à la fin de la ligne du \"if\" indiquent qu'un nouveau \"bloc de code\" démarre. Les lignes suivantes en retrait font partie de ce bloc de code. Certaines autres langues utilisent des {accolades} pour marquer le début et la fin des blocs de code. L'utilisation par Python d'espaces blancs significatifs peut surprendre les programmeurs habitués à d'autres langages, mais en pratique, cela peut conduire à un code plus cohérent et lisible que les langages qui n'imposent pas l'indentation des blocs de code.\n",
        "\n",
        "    Les lignes suivantes traitant de viking_song ne sont pas en retrait avec 4 espaces supplémentaires, donc elles ne font pas partie du bloc de code du \"if\". Nous verrons plus d'exemples de blocs de code en retrait plus tard lorsque nous définirons des fonctions et utiliserons des boucles.\n",
        "\n",
        "    Cet extrait de code est également notre premier aperçu d'une chaîne en Python:\n",
        "\n",
        "    \"But I don't want ANY spam!\""
      ]
    },
    {
      "cell_type": "markdown",
      "metadata": {
        "id": "M7tycdbWx4Tc"
      },
      "source": [
        "viking_song = \"Spam \" * spam_amount\n",
        "print(viking_song)\n",
        "\n",
        "    L'opérateur * peut être utilisé pour multiplier deux nombres (3 * 3 est évalué à 9), mais de manière amusante, nous pouvons également multiplier une chaîne par un nombre, pour obtenir une version qui a été répétée autant de fois. Python propose un certain nombre de petites astuces pour gagner du temps comme celles-ci, où les opérateurs comme * et + ont une signification différente selon le type de chose à laquelle ils sont appliqués. (Le terme technique pour cela est la surcharge de l'opérateur)"
      ]
    },
    {
      "cell_type": "markdown",
      "metadata": {
        "id": "_miCsWJXx4Tc"
      },
      "source": [
        "# Nombres et arithmétique en Python\n"
      ]
    },
    {
      "cell_type": "markdown",
      "metadata": {
        "id": "rRHK9IHxx4Td"
      },
      "source": [
        "Nous avons déjà vu un exemple de variable contenant un nombre ci-dessus:\n",
        "\n",
        "spam_amount = 0\n",
        "\n",
        "\"Number\" est un beau nom informel pour le genre de chose, mais si nous voulions être plus technique, nous pourrions demander à Python comment il décrirait le type de chose que spam_amount est:"
      ]
    },
    {
      "cell_type": "code",
      "metadata": {
        "id": "Q5AnduLvx4Td",
        "outputId": "50dc0219-ba73-4e11-9196-3c99d45d1586"
      },
      "source": [
        "type(spam_amount)"
      ],
      "execution_count": null,
      "outputs": [
        {
          "data": {
            "text/plain": [
              "float"
            ]
          },
          "execution_count": 17,
          "metadata": {},
          "output_type": "execute_result"
        }
      ]
    },
    {
      "cell_type": "markdown",
      "metadata": {
        "id": "sdH-PSXzx4Td"
      },
      "source": [
        "int -> integer (nombre entier). Il existe un autre type de nombre que nous rencontrons couramment en Python:"
      ]
    },
    {
      "cell_type": "code",
      "metadata": {
        "id": "25dspqI5x4Te",
        "outputId": "4f3a649c-7053-434a-d183-198fefdba56b"
      },
      "source": [
        "type(3.14)"
      ],
      "execution_count": null,
      "outputs": [
        {
          "data": {
            "text/plain": [
              "float"
            ]
          },
          "execution_count": 11,
          "metadata": {},
          "output_type": "execute_result"
        }
      ]
    },
    {
      "cell_type": "markdown",
      "metadata": {
        "id": "nEJsEkqrx4Te"
      },
      "source": [
        "Un \"float\" est un nombre avec une décimale - très utile pour représenter des choses comme des poids ou des proportions.\n",
        "\n",
        "type () est la deuxième fonction intégrée que nous avons vue (après print ()), et c'est une autre bonne chose à retenir. Il est très utile de pouvoir demander à Python \"quel genre de chose est-ce?\".\n",
        "\n",
        "Une chose naturelle à vouloir faire avec les nombres est d'effectuer l'arithmétique. Nous avons vu l'opérateur + pour l'addition et l'opérateur * pour la multiplication (d'une sorte). Python nous a également couvert pour le reste des boutons de base de votre calculatrice:\n",
        "\n",
        "    a + b :     Addition,  Somme de a et b\n",
        "    \n",
        "    a - b : Soustraction, différence de a et b\n",
        "    \n",
        "    a * b : Produit de multiplication de a et b\n",
        "    \n",
        "    a / b : division euclidiene,  Quotient de a et b\n",
        "    \n",
        "    a // b : partie entière du quotient de a et b, \n",
        "    \n",
        "    a% b : Modulo donne le reste de la division de a par b\n",
        "    \n",
        "    a ** b : a élevé à la puissance de b\n",
        "    \n",
        " "
      ]
    },
    {
      "cell_type": "markdown",
      "metadata": {
        "id": "Ods3Ldd3x4Te"
      },
      "source": [
        "# coder un exemple de chaque opération "
      ]
    },
    {
      "cell_type": "code",
      "metadata": {
        "id": "YehmjOQtx4Te",
        "outputId": "33b12287-055f-40d4-9284-de8bb8aa45c5"
      },
      "source": [
        "#coder ci-dessous\n",
        "a = 5\n",
        "b = 2\n",
        "print(a+b)\n",
        "print(a-b)\n",
        "print(a*b)\n",
        "print(a/b)\n",
        "print(a//b)\n",
        "print(a%b)\n",
        "print(a**b)"
      ],
      "execution_count": null,
      "outputs": [
        {
          "name": "stdout",
          "output_type": "stream",
          "text": [
            "7\n",
            "3\n",
            "10\n",
            "2.5\n",
            "2\n",
            "1\n",
            "25\n"
          ]
        }
      ]
    },
    {
      "cell_type": "markdown",
      "metadata": {
        "id": "rxihKioxx4Tf"
      },
      "source": [
        "# Ordre des opérations"
      ]
    },
    {
      "cell_type": "markdown",
      "metadata": {
        "id": "GlmSvQsBx4Tf"
      },
      "source": [
        "L'arithmétique que nous avons apprise à l'école primaire a des conventions sur l'ordre dans lequel les opérations sont évaluées. \n",
        "Python suit des règles similaires sur les calculs à effectuer en premier. Ils sont pour la plupart assez intuitifs."
      ]
    },
    {
      "cell_type": "markdown",
      "metadata": {
        "id": "Ri-XSolsx4Tf"
      },
      "source": [
        "Pouvez vous classer l'ordre des opérations suivantes : Exposants, Addition, Parenthèses,  Multiplication, Division, Soustraction? \n",
        "\n"
      ]
    },
    {
      "cell_type": "markdown",
      "metadata": {
        "id": "Anb01nN-x4Tf"
      },
      "source": [
        "### La réponse est :   Parenthèses, Exposants, Multiplication, Division, Addition, Soustraction."
      ]
    },
    {
      "cell_type": "markdown",
      "metadata": {
        "id": "zP23U1g8x4Tf"
      },
      "source": [
        "tester des exemples comme ceux-ci"
      ]
    },
    {
      "cell_type": "code",
      "metadata": {
        "id": "gEDOyjTix4Tg",
        "outputId": "db8818cd-5521-4abb-a9db-79af0ea9aeb2"
      },
      "source": [
        "8 - 3 + 2"
      ],
      "execution_count": null,
      "outputs": [
        {
          "data": {
            "text/plain": [
              "7"
            ]
          },
          "execution_count": 6,
          "metadata": {},
          "output_type": "execute_result"
        }
      ]
    },
    {
      "cell_type": "code",
      "metadata": {
        "id": "nHBkUsEnx4Tg",
        "outputId": "33057210-c8c4-4579-d1ad-542834c3dd20"
      },
      "source": [
        "-3 + 4 * 2"
      ],
      "execution_count": null,
      "outputs": [
        {
          "data": {
            "text/plain": [
              "5"
            ]
          },
          "execution_count": 7,
          "metadata": {},
          "output_type": "execute_result"
        }
      ]
    },
    {
      "cell_type": "markdown",
      "metadata": {
        "id": "E14LUyDrx4Tg"
      },
      "source": [
        "Parfois, l'ordre des opérations par défaut n'est pas ce que nous voulons:"
      ]
    },
    {
      "cell_type": "code",
      "metadata": {
        "id": "KH0WwqZgx4Tg",
        "outputId": "d2e96503-b363-40ee-db29-7a9e30fb1d05"
      },
      "source": [
        "chapeau_hauteur_cm = 25\n",
        "ma_taille_cm = 190\n",
        "\n",
        "# Quelle est ma taille, en mètres, lorsque je porte mon chapeau?\n",
        "\n",
        "total_taille_metres = (chapeau_hauteur_cm + ma_taille_cm)/ 100\n",
        "\n",
        "print(\"Total =\", total_taille_metres, \"m\")"
      ],
      "execution_count": null,
      "outputs": [
        {
          "name": "stdout",
          "output_type": "stream",
          "text": [
            "Total = 2.15 m\n"
          ]
        }
      ]
    },
    {
      "cell_type": "markdown",
      "metadata": {
        "id": "elsjBAWAx4Th"
      },
      "source": [
        "Je vous laisse corriger le code ci-dessus"
      ]
    },
    {
      "cell_type": "markdown",
      "metadata": {
        "id": "0n0PhrYdx4Th"
      },
      "source": [
        "# Autres Fonctions intégrées pour travailler avec des nombres\n"
      ]
    },
    {
      "cell_type": "markdown",
      "metadata": {
        "id": "kA6irarix4Th"
      },
      "source": [
        "\n",
        "\"min\" et \"max\" renvoient respectivement le minimum et le maximum de leurs arguments ...\n",
        "\"abs\" renvoie la valeur absolue de son argument:"
      ]
    },
    {
      "cell_type": "code",
      "metadata": {
        "id": "O9JQwHFTx4Th",
        "outputId": "7b9fecbb-e682-4f06-9c85-85c4902a8a3e"
      },
      "source": [
        "print(min(1, 2, 3))\n",
        "print(max(1, 2, 3))"
      ],
      "execution_count": null,
      "outputs": [
        {
          "name": "stdout",
          "output_type": "stream",
          "text": [
            "1\n",
            "3\n"
          ]
        }
      ]
    },
    {
      "cell_type": "code",
      "metadata": {
        "id": "_NR64_B_x4Ti",
        "outputId": "cb769350-39a1-4b77-d819-73f29bef9a11"
      },
      "source": [
        "print(abs(32))\n",
        "print(abs(-32))"
      ],
      "execution_count": null,
      "outputs": [
        {
          "name": "stdout",
          "output_type": "stream",
          "text": [
            "32\n",
            "32\n"
          ]
        }
      ]
    },
    {
      "cell_type": "markdown",
      "metadata": {
        "id": "RZzIP9lPx4Ti"
      },
      "source": [
        "En plus d'être les noms des deux principaux types numériques de Python, \"int\" et \"float\" peuvent également être appelés en tant que fonction. Ils convertissent leurs arguments dans le type correspondant:"
      ]
    },
    {
      "cell_type": "code",
      "metadata": {
        "id": "mMMeyOaNx4Ti",
        "outputId": "a4b00c3d-a347-4dc1-f729-c1a284819179"
      },
      "source": [
        "print(float(10))\n",
        "print(int(3.33))\n",
        "\n",
        "print(int(807.9) + 1)"
      ],
      "execution_count": null,
      "outputs": [
        {
          "name": "stdout",
          "output_type": "stream",
          "text": [
            "10.0\n",
            "3\n",
            "808\n"
          ]
        }
      ]
    },
    {
      "cell_type": "markdown",
      "metadata": {
        "id": "QonvQZuox4Ti"
      },
      "source": [
        "# Exercices"
      ]
    },
    {
      "cell_type": "markdown",
      "metadata": {
        "id": "nGq6G6NCx4Ti"
      },
      "source": [
        "**Quelle est votre couleur préférée? **\n",
        "\n",
        "Pour répondre à cette question, créez une variable appelée «couleur» dans la cellule ci-dessous avec une valeur appropriée et affichez là avec print. "
      ]
    },
    {
      "cell_type": "code",
      "metadata": {
        "id": "qeOyv6Nvx4Ti",
        "outputId": "5b5afb39-8617-47b8-8e3e-c34d7285bfc9"
      },
      "source": [
        "# créer une variable appelée couleur avec une valeur appropriée sur la ligne ci-dessous\n",
        "# (N'oubliez pas, les chaînes en Python doivent être placées entre guillemets 'simples' ou \"doubles\")\n",
        "\n",
        "#coder ici\n",
        "couleur = \"bleu\"\n",
        "print(couleur)"
      ],
      "execution_count": null,
      "outputs": [
        {
          "name": "stdout",
          "output_type": "stream",
          "text": [
            "bleu\n"
          ]
        }
      ]
    },
    {
      "cell_type": "code",
      "metadata": {
        "id": "zdJokCFjx4Tj",
        "outputId": "c710f51b-3558-47dc-f599-7b951ba946db"
      },
      "source": [
        "pi = 3.14159 # approximatif\n",
        "diamètre = 3\n",
        "\n",
        "# Créez une variable appelée 'rayon' égale à la moitié du diamètre\n",
        "rayon = diamètre/2\n",
        "# Créez une variable appelée 'aire', en utilisant la formule pour l'aire d'un cercle: pi fois le rayon au carré\n",
        "aire = pi*rayon**2\n",
        "print(\"aire: \",aire)"
      ],
      "execution_count": null,
      "outputs": [
        {
          "name": "stdout",
          "output_type": "stream",
          "text": [
            "aire:  7.0685775\n"
          ]
        }
      ]
    },
    {
      "cell_type": "code",
      "metadata": {
        "id": "5m5v5NfSx4Tj"
      },
      "source": [
        "########### Code de configuration - ne touchez pas cette partie  ######################\n",
        "# Nous parlerons en profondeur quelques leçons à partir de maintenant. \n",
        "# Pour l'instant, sachez simplement qu'ils sont encore un autre type d'objet Python, comme int ou float\n",
        "a = [1, 2, 3]\n",
        "b = [3, 2, 1]\n",
        "###########\n",
        "#Échangez les valeurs auxquelles se réfèrent a et b.Vous pouvez code ici\n",
        "\n",
        "# Deux facons de le faire\n",
        "# first: est la manière utilisée dans tous les langages de programmations\n",
        "#temp = a\n",
        "#a = b\n",
        "#b = temp\n",
        "#second est la manière la plus courante dans python\n",
        "a, b = b, a"
      ],
      "execution_count": null,
      "outputs": []
    },
    {
      "cell_type": "code",
      "metadata": {
        "id": "lxJLQiTLx4Tj",
        "outputId": "d52a12d6-efcd-4413-e4c4-8151aec6802c"
      },
      "source": [
        "#vérification\n",
        "print(\"a:\", a, \"b:\",b)"
      ],
      "execution_count": null,
      "outputs": [
        {
          "name": "stdout",
          "output_type": "stream",
          "text": [
            "a: [3, 2, 1] b: [1, 2, 3]\n"
          ]
        }
      ]
    },
    {
      "cell_type": "code",
      "metadata": {
        "id": "UyKu2ZMxx4Tj"
      },
      "source": [
        "#Ajoutez des parenthèses à l'expression suivante pour qu'elle soit égale à 1."
      ],
      "execution_count": null,
      "outputs": []
    },
    {
      "cell_type": "code",
      "metadata": {
        "id": "wuxmllpIx4Tj",
        "outputId": "b404b762-9092-4cc1-adcf-804752ccf0a4"
      },
      "source": [
        "(5 - 3) // 2"
      ],
      "execution_count": null,
      "outputs": [
        {
          "data": {
            "text/plain": [
              "1"
            ]
          },
          "execution_count": 21,
          "metadata": {},
          "output_type": "execute_result"
        }
      ]
    },
    {
      "cell_type": "code",
      "metadata": {
        "id": "yRHNZfBmx4Tk"
      },
      "source": [
        "#Ajoutez des parenthèses à l'expression suivante pour qu'elle soit égale à 0"
      ],
      "execution_count": null,
      "outputs": []
    },
    {
      "cell_type": "code",
      "metadata": {
        "id": "NDwOj29ux4Tk",
        "outputId": "d02429b3-4c50-4fc8-ad53-4870c43c7dfc"
      },
      "source": [
        "8 - 3 * 2 - (1 + 1)"
      ],
      "execution_count": null,
      "outputs": [
        {
          "data": {
            "text/plain": [
              "0"
            ]
          },
          "execution_count": 22,
          "metadata": {},
          "output_type": "execute_result"
        }
      ]
    },
    {
      "cell_type": "code",
      "metadata": {
        "id": "z6fpj-mFx4Tk",
        "outputId": "80cae191-8a73-4222-d08b-37dc62370801"
      },
      "source": [
        "#Alice, Bob et Carol ont accepté de mettre en commun leurs bonbons d'Halloween et de les partager entre eux.\n",
        "#Pour leur amitié, tout bonbon restant sera brisé. Par exemple, s'ils ramènent collectivement 91 bonbons à la maison, \n",
        "#ils en prendront 30 chacun et en briseront 1.\n",
        "#Écrivez une expression arithmétique ci-dessous pour calculer le nombre de bonbons qu'ils doivent briser \n",
        "91 %3"
      ],
      "execution_count": null,
      "outputs": [
        {
          "data": {
            "text/plain": [
              "1"
            ]
          },
          "execution_count": 15,
          "metadata": {},
          "output_type": "execute_result"
        }
      ]
    },
    {
      "cell_type": "code",
      "metadata": {
        "id": "2C3_MO6ex4Tk",
        "outputId": "1c8ca97e-351d-481b-bfc2-596abd758885"
      },
      "source": [
        "# Variables représentant le nombre de bonbons collectés par Alice, Bob et Carol\n",
        "alice_bonbons = 121\n",
        "bob_bonbons = 77\n",
        "carol_bonbons = 109\n",
        "\n",
        "# Remplacez le côté droit de cette affectation par une expression\n",
        "# impliquant alice_candies, bob_candies et carol_candies\n",
        "total_bonbons = alice_bonbons + bob_bonbons + carol_bonbons\n",
        "\n",
        "a_briser = total_bonbons%3\n",
        "\n",
        "print(a_briser)"
      ],
      "execution_count": null,
      "outputs": [
        {
          "name": "stdout",
          "output_type": "stream",
          "text": [
            "1\n"
          ]
        }
      ]
    },
    {
      "cell_type": "code",
      "metadata": {
        "id": "zAcOLxjlx4Tk"
      },
      "source": [
        ""
      ],
      "execution_count": null,
      "outputs": []
    }
  ]
}