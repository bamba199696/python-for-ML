{
 "cells": [
  {
   "cell_type": "markdown",
   "metadata": {},
   "source": [
    "# Les boucles"
   ]
  },
  {
   "cell_type": "markdown",
   "metadata": {},
   "source": [
    "\n",
    "Les boucles sont un moyen d'exécuter de façon répétée du code. Voici un exemple"
   ]
  },
  {
   "cell_type": "code",
   "execution_count": 1,
   "metadata": {},
   "outputs": [
    {
     "name": "stdout",
     "output_type": "stream",
     "text": [
      "Mercury Venus Earth Mars Jupiter Saturn Uranus Neptune "
     ]
    }
   ],
   "source": [
    "planets = ['Mercury', 'Venus', 'Earth', 'Mars', 'Jupiter', 'Saturn', 'Uranus', 'Neptune']\n",
    "for planet in planets:\n",
    "    print(planet, end=' ') # print sur la même ligne"
   ]
  },
  {
   "cell_type": "markdown",
   "metadata": {},
   "source": [
    "\n",
    "La boucle for spécifie\n",
    "\n",
    "    le nom de variable à utiliser (dans ce cas, planète)\n",
    "    l'ensemble de valeurs à boucler (dans ce cas, les planètes)\n",
    "\n",
    "Vous utilisez le mot «in» pour les lier ensemble.\n",
    "\n",
    "L'objet à droite du \"in\" peut être n'importe quel objet qui prend en charge l'itération. Fondamentalement, si cela peut être considéré comme un groupe de choses, vous pouvez probablement le parcourir. En plus des listes, nous pouvons parcourir les éléments d'un tuple:"
   ]
  },
  {
   "cell_type": "code",
   "execution_count": 2,
   "metadata": {},
   "outputs": [
    {
     "data": {
      "text/plain": [
       "360"
      ]
     },
     "execution_count": 2,
     "metadata": {},
     "output_type": "execute_result"
    }
   ],
   "source": [
    "multiplicands = (2, 2, 2, 3, 3, 5)\n",
    "product = 1\n",
    "for mult in multiplicands:\n",
    "    product = product * mult\n",
    "product"
   ]
  },
  {
   "cell_type": "markdown",
   "metadata": {},
   "source": [
    "\n",
    "Vous pouvez même parcourir chaque caractère d'une chaîne:"
   ]
  },
  {
   "cell_type": "code",
   "execution_count": 5,
   "metadata": {},
   "outputs": [
    {
     "name": "stdout",
     "output_type": "stream",
     "text": [
      "HELLO"
     ]
    }
   ],
   "source": [
    "s = 'steganograpHy is the practicE of conceaLing a file, message, image, or video within another fiLe, message, image, Or video.'\n",
    "msg = ''\n",
    "# print all the uppercase letters in s, one at a time\n",
    "for char in s:\n",
    "    if char.isupper():\n",
    "        print(char, end='')     "
   ]
  },
  {
   "cell_type": "markdown",
   "metadata": {},
   "source": [
    "\n",
    "range () est une fonction qui renvoie une séquence de nombres. Il s'avère très utile pour écrire des boucles.\n",
    "\n",
    "Par exemple, si nous voulons répéter une action 5 fois:"
   ]
  },
  {
   "cell_type": "code",
   "execution_count": 6,
   "metadata": {},
   "outputs": [
    {
     "name": "stdout",
     "output_type": "stream",
     "text": [
      "Dire merci. i =  0\n",
      "Dire merci. i =  1\n",
      "Dire merci. i =  2\n",
      "Dire merci. i =  3\n",
      "Dire merci. i =  4\n"
     ]
    }
   ],
   "source": [
    "for i in range(5):\n",
    "    print(\"Dire merci. i = \", i)"
   ]
  },
  {
   "cell_type": "markdown",
   "metadata": {},
   "source": [
    "L'autre type de boucle en Python est une boucle while, qui itère jusqu'à ce qu'une condition soit remplie:"
   ]
  },
  {
   "cell_type": "code",
   "execution_count": 7,
   "metadata": {},
   "outputs": [
    {
     "name": "stdout",
     "output_type": "stream",
     "text": [
      "0 1 2 3 4 5 6 7 8 9 "
     ]
    }
   ],
   "source": [
    "i = 0\n",
    "while i < 10:\n",
    "    print(i, end=' ')\n",
    "    i += 1"
   ]
  },
  {
   "cell_type": "markdown",
   "metadata": {},
   "source": [
    "La compréhension des listes est l'une des fonctionnalités les plus appréciées de Python. La façon la plus simple de les comprendre est probablement de ne regarder que quelques exemples:"
   ]
  },
  {
   "cell_type": "code",
   "execution_count": 8,
   "metadata": {},
   "outputs": [
    {
     "data": {
      "text/plain": [
       "[0, 1, 4, 9, 16, 25, 36, 49, 64, 81]"
      ]
     },
     "execution_count": 8,
     "metadata": {},
     "output_type": "execute_result"
    }
   ],
   "source": [
    "squares = [n**2 for n in range(10)]\n",
    "squares"
   ]
  },
  {
   "cell_type": "markdown",
   "metadata": {},
   "source": [
    "\n",
    "Voici comment nous ferions sans utiliser une liste de compréhension:"
   ]
  },
  {
   "cell_type": "code",
   "execution_count": 9,
   "metadata": {},
   "outputs": [
    {
     "data": {
      "text/plain": [
       "[0, 1, 4, 9, 16, 25, 36, 49, 64, 81]"
      ]
     },
     "execution_count": 9,
     "metadata": {},
     "output_type": "execute_result"
    }
   ],
   "source": [
    "squares = []\n",
    "for n in range(10):\n",
    "    squares.append(n**2)\n",
    "squares\n"
   ]
  },
  {
   "cell_type": "code",
   "execution_count": 11,
   "metadata": {},
   "outputs": [
    {
     "data": {
      "text/plain": [
       "['Venus', 'Earth', 'Mars']"
      ]
     },
     "execution_count": 11,
     "metadata": {},
     "output_type": "execute_result"
    }
   ],
   "source": [
    "short_planets = [planet for planet in planets if len(planet) < 6] # si le nombre de caractère est plus petit que 6\n",
    "short_planets"
   ]
  },
  {
   "cell_type": "markdown",
   "metadata": {},
   "source": [
    "Si vous êtes familier avec SQL, vous pourriez penser que cela ressemble à une clause \"WHERE\")\n",
    "\n",
    "Voici un exemple de filtrage avec une condition if et d'application d'une transformation à la variable de boucle:"
   ]
  },
  {
   "cell_type": "code",
   "execution_count": 12,
   "metadata": {},
   "outputs": [
    {
     "data": {
      "text/plain": [
       "['VENUS!', 'EARTH!', 'MARS!']"
      ]
     },
     "execution_count": 12,
     "metadata": {},
     "output_type": "execute_result"
    }
   ],
   "source": [
    "# str.upper() renvoie une version en majuscules d'une chaîne\n",
    "loud_short_planets = [planet.upper() + '!' for planet in planets if len(planet) < 6]\n",
    "loud_short_planets"
   ]
  },
  {
   "cell_type": "markdown",
   "metadata": {},
   "source": [
    "\n",
    "Vous pouvez trouver la structure plus claire lorsqu'elle est divisée en 3 lignes:"
   ]
  },
  {
   "cell_type": "code",
   "execution_count": 13,
   "metadata": {},
   "outputs": [
    {
     "data": {
      "text/plain": [
       "['VENUS!', 'EARTH!', 'MARS!']"
      ]
     },
     "execution_count": 13,
     "metadata": {},
     "output_type": "execute_result"
    }
   ],
   "source": [
    "[\n",
    "    planet.upper() + '!' \n",
    "    for planet in planets \n",
    "    if len(planet) < 6\n",
    "]"
   ]
  },
  {
   "cell_type": "markdown",
   "metadata": {},
   "source": [
    "\n",
    "(En poursuivant l'analogie SQL, vous pouvez penser à ces trois lignes comme SELECT, FROM et WHERE)\n",
    "\n",
    "L'expression de gauche ne doit pas forcément impliquer la variable de boucle (bien qu'il serait assez inhabituel pour elle de ne pas le faire). Selon vous, à quoi l'expression ci-dessous va-t-elle servir? Appuyez sur le bouton «sortie» pour vérifier."
   ]
  },
  {
   "cell_type": "code",
   "execution_count": 17,
   "metadata": {},
   "outputs": [
    {
     "data": {
      "text/plain": [
       "[32, 32, 32, 32, 32, 32, 32, 32]"
      ]
     },
     "execution_count": 17,
     "metadata": {},
     "output_type": "execute_result"
    }
   ],
   "source": [
    "[32 for planet in planets] # remplace tout simple le nom des planets par 32"
   ]
  },
  {
   "cell_type": "markdown",
   "metadata": {},
   "source": [
    "Les compréhensions de liste combinées à des fonctions telles que min, max et sum peuvent conduire à des solutions uniformes impressionnantes pour des problèmes qui nécessiteraient autrement plusieurs lignes de code.\n",
    "\n",
    "Par exemple, comparez les deux cellules de code suivantes qui font la même chose."
   ]
  },
  {
   "cell_type": "code",
   "execution_count": 23,
   "metadata": {},
   "outputs": [
    {
     "data": {
      "text/plain": [
       "2"
      ]
     },
     "execution_count": 23,
     "metadata": {},
     "output_type": "execute_result"
    }
   ],
   "source": [
    "def count_negatives(nums):\n",
    "    \"\"\"Renvoie le nombre de valeurs négatives dans une liste donnée.\n",
    "    \n",
    "    >>> count_negatives([5, 1, -2, 0, -3])\n",
    "    2\n",
    "    \"\"\"\n",
    "    n_negative = 0\n",
    "    for num in nums:\n",
    "        if num < 0:\n",
    "            n_negative = n_negative + 1\n",
    "    return n_negative\n",
    "\n",
    "nums = [5, 1, -2, 0, -3]\n",
    "count_negatives(nums)"
   ]
  },
  {
   "cell_type": "code",
   "execution_count": 24,
   "metadata": {},
   "outputs": [
    {
     "data": {
      "text/plain": [
       "2"
      ]
     },
     "execution_count": 24,
     "metadata": {},
     "output_type": "execute_result"
    }
   ],
   "source": [
    "def count_negatives_2(nums):\n",
    "    return len([num for num in nums if num < 0])\n",
    "\n",
    "count_negatives_2(nums)"
   ]
  },
  {
   "cell_type": "markdown",
   "metadata": {},
   "source": [
    "Beaucoup mieux, non?\n",
    "\n",
    "Eh bien, si tout ce qui nous intéresse est de minimiser la longueur de notre code, cette troisième solution est encore meilleure!"
   ]
  },
  {
   "cell_type": "code",
   "execution_count": 29,
   "metadata": {},
   "outputs": [
    {
     "name": "stdout",
     "output_type": "stream",
     "text": [
      "2\n"
     ]
    },
    {
     "data": {
      "text/plain": [
       "2"
      ]
     },
     "execution_count": 29,
     "metadata": {},
     "output_type": "execute_result"
    }
   ],
   "source": [
    "def count_negatives_3(nums):\n",
    "    # Rappel: dans les exercices \"booléens et conditionnels\", nous avons appris une bizarrerie de\n",
    "    # Python où il calcule quelque chose comme True + True + False + True pour être égal à 3.\n",
    "    return sum([num < 0 for num in nums]) # transforme la liste en booléen et ensuite compte les True\n",
    "\n",
    "liste =sum([num<0 for num in nums])\n",
    "print(liste)\n",
    "count_negatives_3(nums)"
   ]
  },
  {
   "cell_type": "markdown",
   "metadata": {},
   "source": [
    "# Exercices"
   ]
  },
  {
   "cell_type": "markdown",
   "metadata": {},
   "source": [
    " Le programme suivant a un bug. Essayez de l'identifier et de le corriger."
   ]
  },
  {
   "cell_type": "code",
   "execution_count": 42,
   "metadata": {},
   "outputs": [
    {
     "name": "stdout",
     "output_type": "stream",
     "text": [
      "False\n",
      "True\n",
      "True\n",
      "True\n"
     ]
    }
   ],
   "source": [
    "def has_lucky_number(nums):\n",
    "    \"\"\"Indiquez si la liste de numéros donnée a de la chance. Une liste porte-bonheur contient\n",
    "    au moins un nombre divisible par 7.\n",
    "    \"\"\"\n",
    "    for num in nums:\n",
    "        if num % 7 == 0:\n",
    "            return True\n",
    "        else:\n",
    "            return False\n",
    "\n",
    "nums = [1, 21, 37]\n",
    "print(has_lucky_number(nums)) # renvoie false dès que le num divisible par 7\n",
    "nums = [21, 21, 37]\n",
    "print(has_lucky_number(nums))\n",
    "\n",
    "# CORRECTION\n",
    "def has_lucky_number(nums):\n",
    "    \"\"\"Indiquez si la liste de numéros donnée a de la chance. Une liste porte-bonheur contient\n",
    "    au moins un nombre divisible par 7.\n",
    "    \"\"\"\n",
    "    l = sum([num % 7 == 0 for num in nums])\n",
    "    if l > 0:\n",
    "        return True\n",
    "    else:\n",
    "        return False\n",
    "    \n",
    "nums = [1, 21, 37]\n",
    "print(has_lucky_number(nums)) # renvoie false dès que le num divisible par 7\n",
    "nums = [21, 21, 37]\n",
    "print(has_lucky_number(nums))"
   ]
  },
  {
   "cell_type": "raw",
   "metadata": {},
   "source": [
    "Regardez l'expression Python ci-dessous. Que pensez-vous que nous obtiendrons lorsque nous l'exécuterons? Lorsque vous avez fait votre prédiction, décommentez le code et exécutez la cellule pour voir si vous aviez raison.\n",
    "\n",
    "C'est une comparaison: on aura erreur. Mais l'objectif est d'obtenir [False, False, True, True]"
   ]
  },
  {
   "cell_type": "code",
   "execution_count": 44,
   "metadata": {},
   "outputs": [
    {
     "ename": "TypeError",
     "evalue": "'>' not supported between instances of 'list' and 'int'",
     "output_type": "error",
     "traceback": [
      "\u001b[1;31m---------------------------------------------------------------------------\u001b[0m",
      "\u001b[1;31mTypeError\u001b[0m                                 Traceback (most recent call last)",
      "\u001b[1;32m<ipython-input-44-6f064fcfe2b9>\u001b[0m in \u001b[0;36m<module>\u001b[1;34m\u001b[0m\n\u001b[1;32m----> 1\u001b[1;33m \u001b[1;33m[\u001b[0m\u001b[1;36m1\u001b[0m\u001b[1;33m,\u001b[0m \u001b[1;36m2\u001b[0m\u001b[1;33m,\u001b[0m \u001b[1;36m3\u001b[0m\u001b[1;33m,\u001b[0m \u001b[1;36m4\u001b[0m\u001b[1;33m]\u001b[0m \u001b[1;33m>\u001b[0m \u001b[1;36m2\u001b[0m\u001b[1;33m\u001b[0m\u001b[1;33m\u001b[0m\u001b[0m\n\u001b[0m",
      "\u001b[1;31mTypeError\u001b[0m: '>' not supported between instances of 'list' and 'int'"
     ]
    }
   ],
   "source": [
    "[1, 2, 3, 4] > 2"
   ]
  },
  {
   "cell_type": "markdown",
   "metadata": {},
   "source": [
    "R et Python ont quelques bibliothèques (comme numpy et pandas) comparent chaque élément de la liste à 2 (c'est-à-dire font une comparaison 'élément par élément') et nous donnent une liste de booléens comme [False, False, True, True].\n",
    "\n",
    "Implémentez une fonction qui reproduit ce comportement, en renvoyant une liste de booléens correspondant à si l'élément correspondant est supérieur à n."
   ]
  },
  {
   "cell_type": "code",
   "execution_count": 46,
   "metadata": {},
   "outputs": [
    {
     "name": "stdout",
     "output_type": "stream",
     "text": [
      "[False, False, True, True]\n",
      "[False, False, False, False]\n"
     ]
    }
   ],
   "source": [
    "def plus_grand_que(L, seuil):\n",
    "    \"\"\"Renvoie une liste de la même longueur que L, où la valeur à l'indice i est\n",
    "    Vrai si L [i] est supérieur à seuil et Faux sinon.\n",
    "    \n",
    "    >>> plus_grand_que([1, 2, 3, 4], 2)\n",
    "    [False, False, True, True]\n",
    "    \"\"\"\n",
    "    return [num > seuil for num in L]\n",
    "\n",
    "print(plus_grand_que([1, 2, 3, 4], 2))\n",
    "print(plus_grand_que([1, 2, 3, 4], 4))"
   ]
  },
  {
   "cell_type": "markdown",
   "metadata": {},
   "source": [
    "Complétez le corps de la fonction ci-dessous en fonction de sa docstring."
   ]
  },
  {
   "cell_type": "code",
   "execution_count": 2,
   "metadata": {},
   "outputs": [
    {
     "name": "stdout",
     "output_type": "stream",
     "text": [
      "True\n",
      "False\n"
     ]
    }
   ],
   "source": [
    "def menu_est_nul(repas): # à refaire\n",
    "    \"\"\"Étant donné une liste de repas servis sur une certaine période de temps, renvoyez True si le\n",
    "    le même repas a déjà été servi deux jours de suite, et faux sinon.\n",
    "    \"\"\"\n",
    "    return sum([repas[i].index==repas[i+1].index for i in range(len(repas)-1)])>=1\n",
    "\n",
    "repas = [\"pâte\", \"pâte\", \"soupe kandji\",]\n",
    "#print(i, repas.index(repas[i]))\n",
    "print(menu_est_nul(repas))\n",
    "repas = [\"mafé\", \"tieb\", \"pâte\", \"soupe kandji\", \"pâte\"]\n",
    "print(menu_est_nul(repas))"
   ]
  },
  {
   "cell_type": "markdown",
   "metadata": {},
   "source": [
    "À côté de la table de Blackjack, le Python Challenge Casino a une machine à sous. Vous pouvez obtenir un résultat de la machine à sous en appelant bandit_manchot (). Le numéro qu'il renvoie correspond à vos gains en dollars. Habituellement, il renvoie 0. Mais parfois, vous aurez de la chance et un gros salaire. Essayez de l'exécuter ci-dessous:"
   ]
  },
  {
   "cell_type": "code",
   "execution_count": 51,
   "metadata": {},
   "outputs": [],
   "source": [
    "def bandit_manchot () :\n",
    "    import random\n",
    "    C = [ 0 for i in range(20)] + [ i**i for i in range(5)]\n",
    "    return random.choice(C) "
   ]
  },
  {
   "cell_type": "code",
   "execution_count": 55,
   "metadata": {},
   "outputs": [
    {
     "data": {
      "text/plain": [
       "0"
      ]
     },
     "execution_count": 55,
     "metadata": {},
     "output_type": "execute_result"
    }
   ],
   "source": [
    "#tentez votre chance\n",
    "bandit_manchot ()"
   ]
  },
  {
   "cell_type": "markdown",
   "metadata": {},
   "source": [
    "Soit dit en passant, avons-nous mentionné que chaque pièce coûte 1 $? Ne vous inquiétez pas, nous vous enverrons la facture plus tard.\n",
    "\n",
    "En moyenne, combien d'argent pouvez-vous espérer gagner (ou perdre) chaque fois que vous jouez à la machine? Le casino garde le secret, mais vous pouvez estimer la valeur moyenne de chaque tentative en utilisant une technique appelée la méthode Monte Carlo. Pour estimer le résultat moyen, nous simulons le scénario plusieurs fois et retournons le résultat moyen.\n",
    "\n",
    "Complétez la fonction suivante pour calculer la valeur moyenne par jeu de la machine à sous."
   ]
  },
  {
   "cell_type": "code",
   "execution_count": 67,
   "metadata": {},
   "outputs": [],
   "source": [
    "def estimate_average_slot_payout(n_tentatives):\n",
    "    \"\"\"Run the slot machine n_runs times and return the average net profit per run.\n",
    "    Example calls (note that return value is nondeterministic!):\n",
    "    >>> estimate_average_slot_payout(1)\n",
    "    -1\n",
    "    >>> estimate_average_slot_payout(1)\n",
    "    0.5\n",
    "    \"\"\"\n",
    "    gains = 0\n",
    "    for i in range(n_tentatives):\n",
    "        gains += bandit_manchot() \n",
    "    return gains/n_tentatives -1"
   ]
  },
  {
   "cell_type": "code",
   "execution_count": 68,
   "metadata": {},
   "outputs": [
    {
     "data": {
      "text/plain": [
       "10.74312"
      ]
     },
     "execution_count": 68,
     "metadata": {},
     "output_type": "execute_result"
    }
   ],
   "source": [
    "estimate_average_slot_payout(100000)"
   ]
  },
  {
   "cell_type": "markdown",
   "metadata": {},
   "source": [
    "Considérons une liste contenant les quantités de fruits stockées pour un magasin. Chaque semaine, le magasin va prendre dans le stock une certaine quantité de chaque fruit, pour la mettre en vente. À ce moment, le stock de chaque fruit diminue naturellement. Inutile, en conséquence, de garder les fruits qu'on n'a plus en stock.\n",
    "\n",
    "Je vais un peu reformuler. On va avoir une liste simple, qui contiendra des entiers, précisant la quantité de chaque fruit . On va faire une compréhension de liste pour diminuer d'une quantité donnée toutes les valeurs de cette liste, et on en profite pour retirer celles qui sont inférieures ou égales à 0."
   ]
  },
  {
   "cell_type": "code",
   "execution_count": 70,
   "metadata": {},
   "outputs": [],
   "source": [
    "fruits_stockes = [15, 3, 18, 21] # Par exemple 15 pommes, 3 melons...\n",
    "qtt_a_retirer = 7 # On retire chaque semaine 7 fruits de chaque sorte"
   ]
  },
  {
   "cell_type": "code",
   "execution_count": 79,
   "metadata": {},
   "outputs": [
    {
     "data": {
      "text/plain": [
       "[8, 11, 14]"
      ]
     },
     "execution_count": 79,
     "metadata": {},
     "output_type": "execute_result"
    }
   ],
   "source": [
    "#codez votre comprehension de liste\n",
    "[fruit-qtt_a_retirer for fruit in fruits_stockes if fruit-qtt_a_retirer > 0]"
   ]
  },
  {
   "cell_type": "markdown",
   "metadata": {},
   "source": [
    "Comme vous le voyez, le fruit de quantité 3 n'a pas survécu à cette semaine d'achats. Bien sûr, cet exemple n'est pas complet : on n'a aucun moyen fiable d'associer les nombres restants aux fruits. Mais vous avez un exemple de filtrage et modification d'une liste"
   ]
  },
  {
   "cell_type": "markdown",
   "metadata": {},
   "source": [
    "Nous allons en gros reprendre l'exemple précédent, en le modifiant un peu pour qu'il soit plus cohérent. Nous travaillons toujours avec des fruits sauf que, cette fois, nous allons associer un nom de fruit à la quantité restant en magasin. Nous verrons au prochain chapitre comment le faire avec des dictionnaires ; pour l'instant on va se contenter de listes :"
   ]
  },
  {
   "cell_type": "code",
   "execution_count": 128,
   "metadata": {},
   "outputs": [],
   "source": [
    "inventaire = [(\"pommes\", 22), (\"melons\", 4),(\"poires\", 18),(\"fraises\", 76),(\"prunes\", 51) ]"
   ]
  },
  {
   "cell_type": "markdown",
   "metadata": {},
   "source": [
    "Votre mission est de trier cette liste en fonction de la quantité de chaque fruit. Autrement dit, on doit obtenir quelque chose de similaire à :\n",
    "[\n",
    "    (\"fraises\", 76),\n",
    "    (\"prunes\", 51),\n",
    "    (\"pommes\", 22),\n",
    "    (\"poires\", 18),\n",
    "    (\"melons\", 4),\n",
    "]"
   ]
  },
  {
   "cell_type": "markdown",
   "metadata": {},
   "source": [
    "Pour ceux qui n'ont pas eu la curiosité de regarder dans la documentation des listes, je signale à votre attention la méthode sort qui permet de trier une liste. Vous pouvez également utiliser la fonction sorted qui prend en paramètre la liste à trier (ce n'est pas une méthode de liste, faites attention).sorted renvoie la liste triée sans modifier la liste d'origine, ce qui peut être utile dans certaines circonstances, précisément celle-ci. À vous de voir, vous pouvez y arriver par les deux méthodes.\n",
    "\n",
    "Bien entendu, essayez de faire cet exercice en utilisant les compréhensions de liste.\n"
   ]
  },
  {
   "cell_type": "code",
   "execution_count": 132,
   "metadata": {},
   "outputs": [
    {
     "name": "stdout",
     "output_type": "stream",
     "text": [
      "[('fraises', 76), ('prunes', 51), ('pommes', 22), ('poires', 18), ('melons', 4)]\n"
     ]
    },
    {
     "data": {
      "text/plain": [
       "[('fraises', 76),\n",
       " ('prunes', 51),\n",
       " ('pommes', 22),\n",
       " ('poires', 18),\n",
       " ('melons', 4)]"
      ]
     },
     "execution_count": 132,
     "metadata": {},
     "output_type": "execute_result"
    }
   ],
   "source": [
    "# TRI EN FONCTION DE LA QUANTITE\n",
    "l=[]\n",
    "def tri0(inventaire):\n",
    "    \"\"\" Le tri par quantité\"\"\"\n",
    "    inverse = [(qtt, fruit)  for (fruit, qtt) in inventaire]\n",
    "    inverse.sort(reverse = True)\n",
    "    return [(fruit, qtt) for (qtt, fruit) in inverse]\n",
    "\n",
    "\n",
    "print(tri0(inventaire))\n",
    "\n",
    "\n",
    "# Autre methode\n",
    "def tri(inventaire):\n",
    "    \"\"\" Le tri par quantité\"\"\"\n",
    "    inventaire.sort(key=lambda qtt: qtt[1])\n",
    "    inventaire.reverse()\n",
    "    return inventaire\n",
    "\n",
    "tri(inventaire)"
   ]
  },
  {
   "cell_type": "code",
   "execution_count": null,
   "metadata": {},
   "outputs": [],
   "source": []
  }
 ],
 "metadata": {
  "kernelspec": {
   "display_name": "Python 3",
   "language": "python",
   "name": "python3"
  },
  "language_info": {
   "codemirror_mode": {
    "name": "ipython",
    "version": 3
   },
   "file_extension": ".py",
   "mimetype": "text/x-python",
   "name": "python",
   "nbconvert_exporter": "python",
   "pygments_lexer": "ipython3",
   "version": "3.7.6"
  }
 },
 "nbformat": 4,
 "nbformat_minor": 2
}
