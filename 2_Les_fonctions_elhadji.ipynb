{
  "nbformat": 4,
  "nbformat_minor": 0,
  "metadata": {
    "kernelspec": {
      "display_name": "Python 3",
      "language": "python",
      "name": "python3"
    },
    "language_info": {
      "codemirror_mode": {
        "name": "ipython",
        "version": 3
      },
      "file_extension": ".py",
      "mimetype": "text/x-python",
      "name": "python",
      "nbconvert_exporter": "python",
      "pygments_lexer": "ipython3",
      "version": "3.8.5"
    },
    "colab": {
      "name": "2-Les fonctions_elhadji.ipynb",
      "provenance": []
    }
  },
  "cells": [
    {
      "cell_type": "markdown",
      "metadata": {
        "id": "9iVUAleFyT0S"
      },
      "source": [
        "# Introduction"
      ]
    },
    {
      "cell_type": "markdown",
      "metadata": {
        "id": "woDm9gwqyT0X"
      },
      "source": [
        "\n",
        "Vous avez déjà vu et utilisé des fonctions telles que \"print\" et \"abs\". Mais Python a beaucoup plus de fonctions, et définir vos propres fonctions est une grande partie de la programmation python.\n",
        "\n",
        "Dans cette leçon, vous en apprendrez plus sur l'utilisation et la définition des fonctions."
      ]
    },
    {
      "cell_type": "markdown",
      "metadata": {
        "id": "mzWOsoGxyT0Y"
      },
      "source": [
        "# Obtenir de l'aide"
      ]
    },
    {
      "cell_type": "markdown",
      "metadata": {
        "id": "hiDZYHYEyT0Y"
      },
      "source": [
        "Vous avez vu la fonction abs dans le tutoriel précédent, mais que faire si vous avez oublié ce qu'elle fait?\n",
        "\n",
        "La fonction help () est probablement la fonction Python la plus importante que vous puissiez apprendre. Si vous vous souvenez comment utiliser help (), vous détenez la clé pour comprendre la plupart des autres fonctions.\n",
        "\n",
        "Voici un exemple:"
      ]
    },
    {
      "cell_type": "code",
      "metadata": {
        "id": "6NPfSzg6yT0Z",
        "outputId": "fc8728ca-819c-47eb-d6ac-9d7cb8e6fd1f"
      },
      "source": [
        "help(round)"
      ],
      "execution_count": null,
      "outputs": [
        {
          "name": "stdout",
          "output_type": "stream",
          "text": [
            "Help on built-in function round in module builtins:\n",
            "\n",
            "round(number, ndigits=None)\n",
            "    Round a number to a given precision in decimal digits.\n",
            "    \n",
            "    The return value is an integer if ndigits is omitted or None.  Otherwise\n",
            "    the return value has the same type as the number.  ndigits may be negative.\n",
            "\n"
          ]
        }
      ]
    },
    {
      "cell_type": "markdown",
      "metadata": {
        "id": "h1DYYXf_yT0c"
      },
      "source": [
        "help () affiche deux choses:\n",
        "\n",
        "    l'en-tête de cette fonction round(number, ndigits=None). Dans ce cas, cela nous indique que round () prend un argument que nous pouvons décrire comme un nombre. De plus, nous pouvons éventuellement donner un argument séparé qui pourrait être décrit comme ndigits.\n",
        "\n",
        "    Une brève description en anglais de ce que fait la fonction."
      ]
    },
    {
      "cell_type": "raw",
      "metadata": {
        "id": "rxf0Ong3yT0d"
      },
      "source": [
        "\n",
        "Écueil commun: lorsque vous recherchez une fonction, n'oubliez pas de saisir le nom de la fonction elle-même, et non le résultat de l'appel de cette fonction.\n",
        "\n",
        "Que se passe-t-il si nous appelons de l'aide lors d'un appel à la fonction round ()? Affichez la sortie de la cellule ci-dessous pour voir."
      ]
    },
    {
      "cell_type": "code",
      "metadata": {
        "id": "AMq8G_5EyT0e",
        "outputId": "172e2c38-db46-4956-819c-a6d8e91bfa60"
      },
      "source": [
        "help(round(-2.01))"
      ],
      "execution_count": null,
      "outputs": [
        {
          "name": "stdout",
          "output_type": "stream",
          "text": [
            "Help on int object:\n",
            "\n",
            "class int(object)\n",
            " |  int([x]) -> integer\n",
            " |  int(x, base=10) -> integer\n",
            " |  \n",
            " |  Convert a number or string to an integer, or return 0 if no arguments\n",
            " |  are given.  If x is a number, return x.__int__().  For floating point\n",
            " |  numbers, this truncates towards zero.\n",
            " |  \n",
            " |  If x is not a number or if base is given, then x must be a string,\n",
            " |  bytes, or bytearray instance representing an integer literal in the\n",
            " |  given base.  The literal can be preceded by '+' or '-' and be surrounded\n",
            " |  by whitespace.  The base defaults to 10.  Valid bases are 0 and 2-36.\n",
            " |  Base 0 means to interpret the base from the string as an integer literal.\n",
            " |  >>> int('0b100', base=0)\n",
            " |  4\n",
            " |  \n",
            " |  Methods defined here:\n",
            " |  \n",
            " |  __abs__(self, /)\n",
            " |      abs(self)\n",
            " |  \n",
            " |  __add__(self, value, /)\n",
            " |      Return self+value.\n",
            " |  \n",
            " |  __and__(self, value, /)\n",
            " |      Return self&value.\n",
            " |  \n",
            " |  __bool__(self, /)\n",
            " |      self != 0\n",
            " |  \n",
            " |  __ceil__(...)\n",
            " |      Ceiling of an Integral returns itself.\n",
            " |  \n",
            " |  __divmod__(self, value, /)\n",
            " |      Return divmod(self, value).\n",
            " |  \n",
            " |  __eq__(self, value, /)\n",
            " |      Return self==value.\n",
            " |  \n",
            " |  __float__(self, /)\n",
            " |      float(self)\n",
            " |  \n",
            " |  __floor__(...)\n",
            " |      Flooring an Integral returns itself.\n",
            " |  \n",
            " |  __floordiv__(self, value, /)\n",
            " |      Return self//value.\n",
            " |  \n",
            " |  __format__(self, format_spec, /)\n",
            " |      Default object formatter.\n",
            " |  \n",
            " |  __ge__(self, value, /)\n",
            " |      Return self>=value.\n",
            " |  \n",
            " |  __getattribute__(self, name, /)\n",
            " |      Return getattr(self, name).\n",
            " |  \n",
            " |  __getnewargs__(self, /)\n",
            " |  \n",
            " |  __gt__(self, value, /)\n",
            " |      Return self>value.\n",
            " |  \n",
            " |  __hash__(self, /)\n",
            " |      Return hash(self).\n",
            " |  \n",
            " |  __index__(self, /)\n",
            " |      Return self converted to an integer, if self is suitable for use as an index into a list.\n",
            " |  \n",
            " |  __int__(self, /)\n",
            " |      int(self)\n",
            " |  \n",
            " |  __invert__(self, /)\n",
            " |      ~self\n",
            " |  \n",
            " |  __le__(self, value, /)\n",
            " |      Return self<=value.\n",
            " |  \n",
            " |  __lshift__(self, value, /)\n",
            " |      Return self<<value.\n",
            " |  \n",
            " |  __lt__(self, value, /)\n",
            " |      Return self<value.\n",
            " |  \n",
            " |  __mod__(self, value, /)\n",
            " |      Return self%value.\n",
            " |  \n",
            " |  __mul__(self, value, /)\n",
            " |      Return self*value.\n",
            " |  \n",
            " |  __ne__(self, value, /)\n",
            " |      Return self!=value.\n",
            " |  \n",
            " |  __neg__(self, /)\n",
            " |      -self\n",
            " |  \n",
            " |  __or__(self, value, /)\n",
            " |      Return self|value.\n",
            " |  \n",
            " |  __pos__(self, /)\n",
            " |      +self\n",
            " |  \n",
            " |  __pow__(self, value, mod=None, /)\n",
            " |      Return pow(self, value, mod).\n",
            " |  \n",
            " |  __radd__(self, value, /)\n",
            " |      Return value+self.\n",
            " |  \n",
            " |  __rand__(self, value, /)\n",
            " |      Return value&self.\n",
            " |  \n",
            " |  __rdivmod__(self, value, /)\n",
            " |      Return divmod(value, self).\n",
            " |  \n",
            " |  __repr__(self, /)\n",
            " |      Return repr(self).\n",
            " |  \n",
            " |  __rfloordiv__(self, value, /)\n",
            " |      Return value//self.\n",
            " |  \n",
            " |  __rlshift__(self, value, /)\n",
            " |      Return value<<self.\n",
            " |  \n",
            " |  __rmod__(self, value, /)\n",
            " |      Return value%self.\n",
            " |  \n",
            " |  __rmul__(self, value, /)\n",
            " |      Return value*self.\n",
            " |  \n",
            " |  __ror__(self, value, /)\n",
            " |      Return value|self.\n",
            " |  \n",
            " |  __round__(...)\n",
            " |      Rounding an Integral returns itself.\n",
            " |      Rounding with an ndigits argument also returns an integer.\n",
            " |  \n",
            " |  __rpow__(self, value, mod=None, /)\n",
            " |      Return pow(value, self, mod).\n",
            " |  \n",
            " |  __rrshift__(self, value, /)\n",
            " |      Return value>>self.\n",
            " |  \n",
            " |  __rshift__(self, value, /)\n",
            " |      Return self>>value.\n",
            " |  \n",
            " |  __rsub__(self, value, /)\n",
            " |      Return value-self.\n",
            " |  \n",
            " |  __rtruediv__(self, value, /)\n",
            " |      Return value/self.\n",
            " |  \n",
            " |  __rxor__(self, value, /)\n",
            " |      Return value^self.\n",
            " |  \n",
            " |  __sizeof__(self, /)\n",
            " |      Returns size in memory, in bytes.\n",
            " |  \n",
            " |  __str__(self, /)\n",
            " |      Return str(self).\n",
            " |  \n",
            " |  __sub__(self, value, /)\n",
            " |      Return self-value.\n",
            " |  \n",
            " |  __truediv__(self, value, /)\n",
            " |      Return self/value.\n",
            " |  \n",
            " |  __trunc__(...)\n",
            " |      Truncating an Integral returns itself.\n",
            " |  \n",
            " |  __xor__(self, value, /)\n",
            " |      Return self^value.\n",
            " |  \n",
            " |  bit_length(self, /)\n",
            " |      Number of bits necessary to represent self in binary.\n",
            " |      \n",
            " |      >>> bin(37)\n",
            " |      '0b100101'\n",
            " |      >>> (37).bit_length()\n",
            " |      6\n",
            " |  \n",
            " |  conjugate(...)\n",
            " |      Returns self, the complex conjugate of any int.\n",
            " |  \n",
            " |  to_bytes(self, /, length, byteorder, *, signed=False)\n",
            " |      Return an array of bytes representing an integer.\n",
            " |      \n",
            " |      length\n",
            " |        Length of bytes object to use.  An OverflowError is raised if the\n",
            " |        integer is not representable with the given number of bytes.\n",
            " |      byteorder\n",
            " |        The byte order used to represent the integer.  If byteorder is 'big',\n",
            " |        the most significant byte is at the beginning of the byte array.  If\n",
            " |        byteorder is 'little', the most significant byte is at the end of the\n",
            " |        byte array.  To request the native byte order of the host system, use\n",
            " |        `sys.byteorder' as the byte order value.\n",
            " |      signed\n",
            " |        Determines whether two's complement is used to represent the integer.\n",
            " |        If signed is False and a negative integer is given, an OverflowError\n",
            " |        is raised.\n",
            " |  \n",
            " |  ----------------------------------------------------------------------\n",
            " |  Class methods defined here:\n",
            " |  \n",
            " |  from_bytes(bytes, byteorder, *, signed=False) from builtins.type\n",
            " |      Return the integer represented by the given array of bytes.\n",
            " |      \n",
            " |      bytes\n",
            " |        Holds the array of bytes to convert.  The argument must either\n",
            " |        support the buffer protocol or be an iterable object producing bytes.\n",
            " |        Bytes and bytearray are examples of built-in objects that support the\n",
            " |        buffer protocol.\n",
            " |      byteorder\n",
            " |        The byte order used to represent the integer.  If byteorder is 'big',\n",
            " |        the most significant byte is at the beginning of the byte array.  If\n",
            " |        byteorder is 'little', the most significant byte is at the end of the\n",
            " |        byte array.  To request the native byte order of the host system, use\n",
            " |        `sys.byteorder' as the byte order value.\n",
            " |      signed\n",
            " |        Indicates whether two's complement is used to represent the integer.\n",
            " |  \n",
            " |  ----------------------------------------------------------------------\n",
            " |  Static methods defined here:\n",
            " |  \n",
            " |  __new__(*args, **kwargs) from builtins.type\n",
            " |      Create and return a new object.  See help(type) for accurate signature.\n",
            " |  \n",
            " |  ----------------------------------------------------------------------\n",
            " |  Data descriptors defined here:\n",
            " |  \n",
            " |  denominator\n",
            " |      the denominator of a rational number in lowest terms\n",
            " |  \n",
            " |  imag\n",
            " |      the imaginary part of a complex number\n",
            " |  \n",
            " |  numerator\n",
            " |      the numerator of a rational number in lowest terms\n",
            " |  \n",
            " |  real\n",
            " |      the real part of a complex number\n",
            "\n"
          ]
        }
      ]
    },
    {
      "cell_type": "markdown",
      "metadata": {
        "id": "s4oNMV3JyT0f"
      },
      "source": [
        "Python évalue une expression comme celle-ci de l'intérieur. D'abord, il calcule la valeur de round (-2.01), puis il fournit de l'aide sur la sortie de cette expression.\n",
        "\n",
        "(Et il s'avère que nous avons beaucoup à dire sur les entiers! Lorsque nous aurons parlé des objets, des méthodes et des attributs en Python, la volumineuse sortie d'aide ci-dessus aura plus de sens.)\n",
        "\n",
        "round est une fonction très simple avec une courte docstring. l'aide brille encore plus lorsqu'il s'agit de fonctions plus complexes et configurables comme l'impression. Ne vous inquiétez pas si la sortie suivante semble impénétrable ... pour l'instant, voyez simplement si vous pouvez trouver quelque chose de nouveau dans cette aide."
      ]
    },
    {
      "cell_type": "code",
      "metadata": {
        "id": "uZUKEz97yT0h",
        "outputId": "449f6fb4-4e16-4431-f864-ce89812b8ab4"
      },
      "source": [
        "help(print)"
      ],
      "execution_count": null,
      "outputs": [
        {
          "name": "stdout",
          "output_type": "stream",
          "text": [
            "Help on built-in function print in module builtins:\n",
            "\n",
            "print(...)\n",
            "    print(value, ..., sep=' ', end='\\n', file=sys.stdout, flush=False)\n",
            "    \n",
            "    Prints the values to a stream, or to sys.stdout by default.\n",
            "    Optional keyword arguments:\n",
            "    file:  a file-like object (stream); defaults to the current sys.stdout.\n",
            "    sep:   string inserted between values, default a space.\n",
            "    end:   string appended after the last value, default a newline.\n",
            "    flush: whether to forcibly flush the stream.\n",
            "\n"
          ]
        }
      ]
    },
    {
      "cell_type": "markdown",
      "metadata": {
        "id": "UJYqt83KyT0i"
      },
      "source": [
        "Si vous le cherchiez, vous pourriez apprendre que print peut prendre un argument appelé sep, et que cela décrit ce que nous mettons entre tous les autres arguments lorsque nous les imprimons."
      ]
    },
    {
      "cell_type": "markdown",
      "metadata": {
        "id": "CRAv5Vq-yT0i"
      },
      "source": [
        "# Définition des fonctions"
      ]
    },
    {
      "cell_type": "markdown",
      "metadata": {
        "id": "wKNpQLBAyT0j"
      },
      "source": [
        "Les fonctions intégrées sont très pratiques, mais nous ne pouvons aller très loin avec elles. Il est temps de commencer à définir nos propres fonctions. Voici un exemple simple."
      ]
    },
    {
      "cell_type": "code",
      "metadata": {
        "id": "yHRg0dATyT0j"
      },
      "source": [
        "def least_difference(a, b, c):\n",
        "    diff1 = abs(a - b)\n",
        "    diff2 = abs(b - c)\n",
        "    diff3 = abs(a - c)\n",
        "    return min(diff1, diff2, diff3)"
      ],
      "execution_count": null,
      "outputs": []
    },
    {
      "cell_type": "markdown",
      "metadata": {
        "id": "z2S9CuvcyT0k"
      },
      "source": [
        "Cela crée une fonction appelée \"least_difference\", qui prend trois arguments, a, b et c.\n",
        "\n",
        "Les fonctions commencent par un en-tête introduit par le mot-clé \"def\". Le bloc de code en retrait suivant: est exécuté lorsque la fonction est appelée.\n",
        "\n",
        "\"return\" est un autre mot-clé uniquement associé aux fonctions. Lorsque Python rencontre une instruction de retour, il quitte immédiatement la fonction et transmet la valeur sur le côté droit au contexte appelant.\n",
        "\n",
        "Est-ce clair ce que least_difference () fait ? Si nous ne sommes pas sûrs, nous pouvons toujours l'essayer sur quelques exemples:"
      ]
    },
    {
      "cell_type": "code",
      "metadata": {
        "id": "p7vjCrkCyT0k",
        "outputId": "bf898607-73ba-4938-8b09-f78bf45f9b7f"
      },
      "source": [
        "print(\n",
        "    least_difference(1, 10, 100),\n",
        "    least_difference(1, 10, 10),\n",
        "    least_difference(5, 6, 7), # Python allows trailing commas in argument lists. How nice is that?\n",
        ")"
      ],
      "execution_count": null,
      "outputs": [
        {
          "name": "stdout",
          "output_type": "stream",
          "text": [
            "9 0 1\n"
          ]
        }
      ]
    },
    {
      "cell_type": "markdown",
      "metadata": {
        "id": "FMtiF2z1yT0k"
      },
      "source": [
        "Ou peut-être que la fonction help () peut nous en dire quelque chose."
      ]
    },
    {
      "cell_type": "code",
      "metadata": {
        "id": "atPjscBuyT0l",
        "outputId": "96cf3981-6196-46c1-fd60-8bb26b078816"
      },
      "source": [
        "help(least_difference)"
      ],
      "execution_count": null,
      "outputs": [
        {
          "name": "stdout",
          "output_type": "stream",
          "text": [
            "Help on function least_difference in module __main__:\n",
            "\n",
            "least_difference(a, b, c)\n",
            "\n"
          ]
        }
      ]
    },
    {
      "cell_type": "markdown",
      "metadata": {
        "id": "HfVb4vVPyT0l"
      },
      "source": [
        "Python n'est pas assez intelligent pour lire mon code et le transformer en une belle description en anglais. Cependant, lorsque j'écris une fonction, je peux fournir une description dans ce qu'on appelle la docstring."
      ]
    },
    {
      "cell_type": "code",
      "metadata": {
        "id": "Fnn7J4gpyT0m"
      },
      "source": [
        "def least_difference(a, b, c):\n",
        "    \"\"\"Return the smallest difference between any two numbers\n",
        "    among a, b and c.\n",
        "    \n",
        "    >>> least_difference(1, 5, -5)\n",
        "    4\n",
        "    \"\"\"\n",
        "    diff1 = abs(a - b)\n",
        "    diff2 = abs(b - c)\n",
        "    diff3 = abs(a - c)\n",
        "    return min(diff1, diff2, diff3)"
      ],
      "execution_count": null,
      "outputs": []
    },
    {
      "cell_type": "markdown",
      "metadata": {
        "id": "si42ytbPyT0n"
      },
      "source": [
        "\n",
        "La docstring est une chaîne entre guillemets triples (qui peut s'étendre sur plusieurs lignes) qui vient immédiatement après l'en-tête d'une fonction. Lorsque nous appelons help () sur une fonction, elle affiche la docstring."
      ]
    },
    {
      "cell_type": "code",
      "metadata": {
        "id": "e6GlKnSPyT0n",
        "outputId": "766b8157-90ef-4d7f-f929-28f0af0e5746"
      },
      "source": [
        "help(least_difference)"
      ],
      "execution_count": null,
      "outputs": [
        {
          "name": "stdout",
          "output_type": "stream",
          "text": [
            "Help on function least_difference in module __main__:\n",
            "\n",
            "least_difference(a, b, c)\n",
            "    Return the smallest difference between any two numbers\n",
            "    among a, b and c.\n",
            "    \n",
            "    >>> least_difference(1, 5, -5)\n",
            "    4\n",
            "\n"
          ]
        }
      ]
    },
    {
      "cell_type": "markdown",
      "metadata": {
        "id": "rZMZxkD5yT0n"
      },
      "source": [
        "Les bons programmeurs utilisent des docstrings sauf s'ils s'attendent à jeter le code peu de temps après son utilisation (ce qui est rare). Donc, vous devriez également commencer à écrire des docstrings."
      ]
    },
    {
      "cell_type": "code",
      "metadata": {
        "id": "AMmB-IfEyT0o",
        "outputId": "effd5653-fb79-42a0-d226-6f8f18e18aba"
      },
      "source": [
        "def least_difference(a, b, c):\n",
        "    \"\"\"Return the smallest difference between any two numbers\n",
        "    among a, b and c.\n",
        "    \"\"\"\n",
        "    diff1 = abs(a - b)\n",
        "    diff2 = abs(b - c)\n",
        "    diff3 = abs(a - c)\n",
        "    min(diff1, diff2, diff3)\n",
        "\n",
        "\n",
        "\n",
        "print(\n",
        "    least_difference(1, 10, 100),\n",
        "    least_difference(1, 10, 10),\n",
        "    least_difference(5, 6, 7),\n",
        ")"
      ],
      "execution_count": null,
      "outputs": [
        {
          "name": "stdout",
          "output_type": "stream",
          "text": [
            "None None None\n"
          ]
        }
      ]
    },
    {
      "cell_type": "markdown",
      "metadata": {
        "id": "JJzof9b6yT0o"
      },
      "source": [
        "Python nous permet de définir de telles fonctions. Le résultat de leur appel est la valeur spéciale None. (Ceci est similaire au concept de \"null\" dans d'autres langues.)\n",
        "\n",
        "Sans instruction return, less_difference est complètement inutile, mais une fonction avec des effets secondaires peut faire quelque chose d'utile sans rien retourner. Nous en avons déjà vu deux exemples: print () et help () ne renvoient rien. Nous ne les appelons que pour leurs effets secondaires (en mettant du texte à l'écran). D'autres exemples d'effets secondaires utiles incluent l'écriture dans un fichier ou la modification d'une entrée."
      ]
    },
    {
      "cell_type": "markdown",
      "metadata": {
        "id": "_xe_64N6yT0p"
      },
      "source": [
        "# Default arguments"
      ]
    },
    {
      "cell_type": "markdown",
      "metadata": {
        "id": "NZMSJG0QyT0p"
      },
      "source": [
        "\n",
        "Lorsque nous avons appelé help (print), nous avons vu que la fonction print avait plusieurs arguments facultatifs. Par exemple, nous pouvons spécifier une valeur pour sep pour mettre une chaîne spéciale entre nos arguments imprimés"
      ]
    },
    {
      "cell_type": "code",
      "metadata": {
        "id": "5uKPUNlPyT0p",
        "outputId": "a9310143-786b-4d65-ca15-98d759e19224"
      },
      "source": [
        "print(1, 2, 3, sep=' < ')"
      ],
      "execution_count": null,
      "outputs": [
        {
          "name": "stdout",
          "output_type": "stream",
          "text": [
            "1 < 2 < 3\n"
          ]
        }
      ]
    },
    {
      "cell_type": "markdown",
      "metadata": {
        "id": "ydJIh7VtyT0q"
      },
      "source": [
        "Mais si nous ne spécifions pas de valeur, sep est traité comme ayant une valeur par défaut de '' (un seul espace)."
      ]
    },
    {
      "cell_type": "code",
      "metadata": {
        "id": "oc7AJWCzyT0q",
        "outputId": "a558844b-faff-4911-d44b-06fc19227104"
      },
      "source": [
        "print(1, 2, 3)"
      ],
      "execution_count": null,
      "outputs": [
        {
          "name": "stdout",
          "output_type": "stream",
          "text": [
            "1 2 3\n"
          ]
        }
      ]
    },
    {
      "cell_type": "markdown",
      "metadata": {
        "id": "yiIzkfK3yT0r"
      },
      "source": [
        "\n",
        "L'ajout d'arguments facultatifs avec des valeurs par défaut aux fonctions que nous définissons s'avère assez simple"
      ]
    },
    {
      "cell_type": "code",
      "metadata": {
        "id": "VQxzdZcAyT0r",
        "outputId": "a553a671-345b-4c7c-a550-5c0291747360"
      },
      "source": [
        "def greet(who=\"Colin\"):\n",
        "    print(\"Hello,\", who)\n",
        "    \n",
        "greet()\n",
        "greet(who=\"Simplon\")\n",
        "# (Dans ce cas, nous n'avons pas besoin de spécifier le nom de l'argument, car il est sans ambiguïté.)\n",
        "greet(\"world\")"
      ],
      "execution_count": null,
      "outputs": [
        {
          "name": "stdout",
          "output_type": "stream",
          "text": [
            "Hello, Colin\n",
            "Hello, Simplon\n",
            "Hello, world\n"
          ]
        }
      ]
    },
    {
      "cell_type": "markdown",
      "metadata": {
        "id": "ruEBzEBqyT0r"
      },
      "source": [
        "# Fonctions appliquées aux fonctions"
      ]
    },
    {
      "cell_type": "markdown",
      "metadata": {
        "id": "jVqECs3CyT0s"
      },
      "source": [
        "\n",
        "Voici quelque chose de puissant, bien qu'il puisse sembler très abstrait au début. Vous pouvez fournir des fonctions comme arguments à d'autres fonctions. Un exemple peut rendre cela plus clair:"
      ]
    },
    {
      "cell_type": "code",
      "metadata": {
        "id": "dfLtNyyFyT0s",
        "outputId": "3aad3846-f897-48ab-fd8c-9eefec0a7819"
      },
      "source": [
        "def mult_by_five(x):\n",
        "    return 5 * x\n",
        "\n",
        "def call(fn, arg):\n",
        "    \"\"\"Call fn on arg\"\"\"\n",
        "    return fn(arg)\n",
        "\n",
        "def squared_call(fn, arg):\n",
        "    \"\"\"Call fn on the result of calling fn on arg\"\"\"\n",
        "    return fn(fn(arg))\n",
        "\n",
        "print(\n",
        "    call(mult_by_five, 1),\n",
        "    squared_call(mult_by_five, 1), \n",
        "    sep='\\n', # '\\n' is the newline character - it starts a new line\n",
        ")"
      ],
      "execution_count": null,
      "outputs": [
        {
          "name": "stdout",
          "output_type": "stream",
          "text": [
            "5\n",
            "25\n"
          ]
        }
      ]
    },
    {
      "cell_type": "markdown",
      "metadata": {
        "id": "8SSfm2BlyT0s"
      },
      "source": [
        "\n",
        "Les fonctions qui opèrent sur d'autres fonctions sont appelées «fonctions d'ordre supérieur». Vous n'écrirez probablement pas le vôtre avant un petit moment. Mais il existe des fonctions d'ordre supérieur intégrées à Python que vous pourriez trouver utiles à appeler.\n",
        "\n",
        "Voici un exemple intéressant utilisant la fonction max.\n",
        "\n",
        "Par défaut, max renvoie le plus grand de ses arguments. Mais si nous passons une fonction en utilisant l'argument clé facultatif, elle retourne l'argument x qui maximise la clé (x) (alias 'argmax')."
      ]
    },
    {
      "cell_type": "code",
      "metadata": {
        "id": "0NEEaPGYyT0t",
        "outputId": "4b04a013-93cd-4f3c-db8c-f107572ff32a"
      },
      "source": [
        "def mod_5(x):\n",
        "    \"\"\"Return the remainder of x after dividing by 5\"\"\"\n",
        "    return x % 5\n",
        "\n",
        "print(\n",
        "    'Which number is biggest?',\n",
        "    max(100, 51, 14),\n",
        "    'Which number is the biggest modulo 5?',\n",
        "    max(100, 51, 14, key=mod_5),\n",
        "    sep='\\n',\n",
        ")"
      ],
      "execution_count": null,
      "outputs": [
        {
          "name": "stdout",
          "output_type": "stream",
          "text": [
            "Which number is biggest?\n",
            "100\n",
            "Which number is the biggest modulo 5?\n",
            "14\n"
          ]
        }
      ]
    },
    {
      "cell_type": "markdown",
      "metadata": {
        "id": "IFdDRndYyT0t"
      },
      "source": [
        "# Exercices "
      ]
    },
    {
      "cell_type": "markdown",
      "metadata": {
        "id": "miqr4vM-yT0t"
      },
      "source": [
        "\n",
        "Les fonctions sont puissantes. Essayez d'en écrire vous-même.\n"
      ]
    },
    {
      "cell_type": "markdown",
      "metadata": {
        "id": "HIFyM28wyT0t"
      },
      "source": [
        "\n",
        "Complétez le corps de la fonction suivante en fonction de sa docstring.\n",
        "\n",
        "CONSEIL: utiliser \"round\""
      ]
    },
    {
      "cell_type": "code",
      "metadata": {
        "id": "FN8LrPi3yT0t"
      },
      "source": [
        "def round_2_apres_virg(num):\n",
        "    \"\"\"Renvoie le nombre donné arrondi à deux décimales. \n",
        "    \n",
        "    >>> round_2_apres_virg(3.14159)\n",
        "    3.14\n",
        "    \"\"\"\n",
        "    # Remplacez ce corps par votre propre code.\n",
        "    # (\"pass\" est un mot-clé qui ne fait littéralement rien. Nous l'avons utilisé comme espace réservé\n",
        "    # car après avoir commencé un bloc de code, Python nécessite au moins une ligne de code)\n",
        "    pass\n"
      ],
      "execution_count": null,
      "outputs": []
    },
    {
      "cell_type": "markdown",
      "metadata": {
        "id": "7mmdcJagyT0u"
      },
      "source": [
        "\n",
        "L'aide pour round indique que ndigits (le deuxième argument) peut être négatif. Que pensez-vous qu'il se passera quand c'est le cas? Essayez quelques exemples dans la cellule suivante?\n",
        "\n",
        "Pouvez-vous penser à un cas où cela serait utile?"
      ]
    },
    {
      "cell_type": "code",
      "metadata": {
        "id": "GOW5F5I1yT0u"
      },
      "source": [
        "def round_2_apres_virg(num):\n",
        "    \"\"\"Renvoie le nombre donné arrondi à deux décimales. \n",
        "    \n",
        "    >>> round_2_apres_virg(3.14159)\n",
        "    3.15\n",
        "    \"\"\"\n",
        "    # Remplacez ce corps par votre propre code.\n",
        "    # (\"pass\" est un mot-clé qui ne fait littéralement rien. Nous l'avons utilisé comme espace réservé\n",
        "    # car après avoir commencé un bloc de code, Python nécessite au moins une ligne de code)\n",
        "    pass\n"
      ],
      "execution_count": null,
      "outputs": []
    },
    {
      "cell_type": "markdown",
      "metadata": {
        "id": "RPg8-IlXyT0u"
      },
      "source": [
        "Dans un problème de programmation précédent, les amis de partage de bonbons Alice, Bob et Carol ont essayé de diviser les bonbons de manière égale. Pour leur amitié, tout bonbon restant serait brisé. Par exemple, s'ils ramènent collectivement 91 bonbons à la maison, ils en prendront 30 chacun et en briseront 1.\n",
        "\n",
        "Vous trouverez ci-dessous une fonction simple qui calculera le nombre de bonbons à briser pour n'importe quel nombre de bonbons au total.\n",
        "\n",
        "Modifiez-le pour qu'il prenne éventuellement un deuxième argument représentant le nombre d'amis entre lesquels les bonbons sont partagés. Si aucun deuxième argument n'est fourni, il devrait supposer 3 amis, comme précédemment.\n",
        "\n",
        "Mettez à jour la docstring pour refléter ce nouveau comportement."
      ]
    },
    {
      "cell_type": "code",
      "metadata": {
        "id": "a4srzodvyT0u",
        "outputId": "2126e060-3a56-4d44-fe8e-a933c2c32d1d"
      },
      "source": [
        "def a_briser(total_bonbons):\n",
        "    \"\"\"Retourne le nombre de bonbons restants après la distribution\n",
        "    de total_bonbons uniformément entre 3 amis.\n",
        "    \n",
        "    >>> a_briser(91)\n",
        "    1\n",
        "    \"\"\"\n",
        "    return total_bonbons % 3\n",
        "\n",
        "\n",
        "a_briser(91)"
      ],
      "execution_count": null,
      "outputs": [
        {
          "data": {
            "text/plain": [
              "1"
            ]
          },
          "execution_count": 3,
          "metadata": {},
          "output_type": "execute_result"
        }
      ]
    },
    {
      "cell_type": "markdown",
      "metadata": {
        "id": "vzwD-IZxyT0v"
      },
      "source": [
        "Ce n'est peut-être pas amusant, mais la lecture et la compréhension des messages d'erreur seront une partie importante de votre carrière Python.\n",
        "\n",
        "Chaque cellule de code ci-dessous contient un bugg. Pour chaque cellule ...\n",
        "\n",
        "    Lisez le code et prédisez ce que vous pensez qu'il se passera lors de son exécution.\n",
        "    Décommentez ensuite le code et exécutez-le pour voir ce qui se passe. \n",
        "    Corrigez le code (afin qu'il accomplisse son objectif sans lancer d'exception)"
      ]
    },
    {
      "cell_type": "code",
      "metadata": {
        "id": "_AHovj6wyT0v",
        "outputId": "5d4c8f24-4d28-4ff4-aa00-a3e8658dfb1c"
      },
      "source": [
        "ruound_2_apres_vir(9.9999) # la fonction n'existe pas"
      ],
      "execution_count": null,
      "outputs": [
        {
          "ename": "NameError",
          "evalue": "name 'ruound_2_apres_vir' is not defined",
          "output_type": "error",
          "traceback": [
            "\u001b[1;31m---------------------------------------------------------------------------\u001b[0m",
            "\u001b[1;31mNameError\u001b[0m                                 Traceback (most recent call last)",
            "\u001b[1;32m<ipython-input-17-98dac0b44f39>\u001b[0m in \u001b[0;36m<module>\u001b[1;34m\u001b[0m\n\u001b[1;32m----> 1\u001b[1;33m \u001b[0mruound_2_apres_vir\u001b[0m\u001b[1;33m(\u001b[0m\u001b[1;36m9.9999\u001b[0m\u001b[1;33m)\u001b[0m\u001b[1;33m\u001b[0m\u001b[1;33m\u001b[0m\u001b[0m\n\u001b[0m",
            "\u001b[1;31mNameError\u001b[0m: name 'ruound_2_apres_vir' is not defined"
          ]
        }
      ]
    },
    {
      "cell_type": "code",
      "metadata": {
        "id": "J6TIrN2syT0v",
        "outputId": "7326f7f4-1b63-468c-8ccc-d480f7c2a2a8"
      },
      "source": [
        "x = -10\n",
        "y = 5\n",
        "# Which of the two variables above has the smallest absolute value?\n",
        "smallest_abs = min(x, y, key = abs) # ABS NE PEUT PAS PRENDRE PLUSIEURS ARGUMENTS \n",
        "smallest_abs"
      ],
      "execution_count": null,
      "outputs": [
        {
          "data": {
            "text/plain": [
              "5"
            ]
          },
          "execution_count": 2,
          "metadata": {},
          "output_type": "execute_result"
        }
      ]
    },
    {
      "cell_type": "code",
      "metadata": {
        "id": "Bh8LXRAuyT0w",
        "outputId": "75b7b9cc-923e-4139-b8bf-ebca46c797c2"
      },
      "source": [
        "def f(x):\n",
        "    y = abs(x)\n",
        "    return y # RESPECTER LES BLOCS \n",
        "\n",
        "print(f(5))"
      ],
      "execution_count": null,
      "outputs": [
        {
          "name": "stdout",
          "output_type": "stream",
          "text": [
            "5\n"
          ]
        }
      ]
    },
    {
      "cell_type": "code",
      "metadata": {
        "id": "fAErqlq4yT0w"
      },
      "source": [
        ""
      ],
      "execution_count": null,
      "outputs": []
    }
  ]
}